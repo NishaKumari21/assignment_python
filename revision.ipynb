{
 "cells": [
  {
   "cell_type": "code",
   "execution_count": 25,
   "id": "36d424e3-f3a0-4fb1-b66a-0b2b3487750b",
   "metadata": {},
   "outputs": [
    {
     "name": "stdout",
     "output_type": "stream",
     "text": [
      "['nisha', 'neha', 'nishu']\n"
     ]
    }
   ],
   "source": [
    "names=['nisha','neha','ayesha','nishu']\n",
    "new_name=[]\n",
    "for name in names:\n",
    "    if 'n' in name:\n",
    "        # print(name)\n",
    "        new_name.append(name)\n",
    "print(new_name)"
   ]
  },
  {
   "cell_type": "markdown",
   "id": "31ea37cc-5e6d-4bf7-9b4d-7f58bfbf05b3",
   "metadata": {},
   "source": [
    "# List comprehensions"
   ]
  },
  {
   "cell_type": "code",
   "execution_count": 28,
   "id": "884ef75f-b8ba-44ef-8c01-28ea78fc16b7",
   "metadata": {},
   "outputs": [
    {
     "data": {
      "text/plain": [
       "['nisha', 'neha', 'nishu']"
      ]
     },
     "execution_count": 28,
     "metadata": {},
     "output_type": "execute_result"
    }
   ],
   "source": [
    "names=['nisha','neha','ayesha','nishu']\n",
    "new_names=[ name for name in names if 'n' in name]\n",
    "new_names"
   ]
  },
  {
   "cell_type": "code",
   "execution_count": 29,
   "id": "82b938ba-56cb-426b-833e-6e9b23f86045",
   "metadata": {},
   "outputs": [
    {
     "name": "stdout",
     "output_type": "stream",
     "text": [
      "['Lion', 'Cat', 'Tiger', 'Fox']\n"
     ]
    }
   ],
   "source": [
    "animals=['lion','cat','tiger','fox']\n",
    "filtered_item=[]\n",
    "for n in animals:\n",
    "    filtered_item.append(n.title())\n",
    "print(filtered_item)"
   ]
  },
  {
   "cell_type": "markdown",
   "id": "3b09378b-651c-4e9e-84cf-0b4a8ece1504",
   "metadata": {},
   "source": [
    "# List comprehensions"
   ]
  },
  {
   "cell_type": "code",
   "execution_count": 31,
   "id": "bc320ed6-348d-44b7-adea-dccd13ebad7e",
   "metadata": {},
   "outputs": [
    {
     "name": "stdout",
     "output_type": "stream",
     "text": [
      "['Lion', 'Cat', 'Tiger', 'Fox']\n"
     ]
    }
   ],
   "source": [
    "animals=['lion','cat','tiger','fox']\n",
    "filtered_item=[n.title() for n in animals]\n",
    "print(filtered_item)"
   ]
  },
  {
   "cell_type": "code",
   "execution_count": 37,
   "id": "e00554ae-1aba-4bca-8087-bec1ed39fcad",
   "metadata": {},
   "outputs": [
    {
     "name": "stdout",
     "output_type": "stream",
     "text": [
      "[4, 6, 12, 10]\n"
     ]
    }
   ],
   "source": [
    "numbers=[3,4,5,6,7,12,10]\n",
    "even_n=[]\n",
    "for n in numbers:\n",
    "    if n%2==0:\n",
    "        even_n.append(n)\n",
    "print(even_n)"
   ]
  },
  {
   "cell_type": "markdown",
   "id": "36bbf9c5-98ce-4c5b-8190-7961f891853d",
   "metadata": {},
   "source": [
    "# List Comprehensions"
   ]
  },
  {
   "cell_type": "code",
   "execution_count": 42,
   "id": "b546ffe6-cf5e-462f-81c2-43c550a40b02",
   "metadata": {},
   "outputs": [
    {
     "name": "stdout",
     "output_type": "stream",
     "text": [
      "[4, 6, 12, 10]\n"
     ]
    }
   ],
   "source": [
    "numbers=[3,4,5,6,7,12,10]\n",
    "even_n=[n for n in numbers if n%2==0]\n",
    "print(even_n)"
   ]
  },
  {
   "cell_type": "markdown",
   "id": "5d363f63-992f-4ce9-b22e-b3f0ac00bcc1",
   "metadata": {},
   "source": [
    "# Python Iterators\n",
    "Iterator wo object hota hai jo ek-ek karke elements ko traverse karta hai (jaise loops mein hota hai).\n",
    "\n",
    "Iterables mein list, tuple, string aate hain.\n",
    "iter() aur next() ka use karke iterator ko manually control kar sakte ho."
   ]
  },
  {
   "cell_type": "code",
   "execution_count": 47,
   "id": "b4b521b0-ba19-473e-9ae9-f4fd9c8ac2aa",
   "metadata": {},
   "outputs": [
    {
     "name": "stdout",
     "output_type": "stream",
     "text": [
      "3\n"
     ]
    }
   ],
   "source": [
    "l=[3,4,5,6,12,10]\n",
    "# here we have to use the inddexing to traverse the element or we have to use the loop\n",
    "# for i in l:\n",
    "#     print(i)\n",
    "print(l[0])"
   ]
  },
  {
   "cell_type": "code",
   "execution_count": 57,
   "id": "42006a82-d43e-4e62-bf7e-d4c25fa55a34",
   "metadata": {},
   "outputs": [
    {
     "name": "stdout",
     "output_type": "stream",
     "text": [
      "3\n",
      "4\n",
      "5\n",
      "6\n"
     ]
    }
   ],
   "source": [
    "l=[3,4,5,6,12,10]\n",
    "it=iter(l)\n",
    "print(next(it))\n",
    "print(next(it))\n",
    "print(next(it))\n",
    "print(next(it))"
   ]
  },
  {
   "cell_type": "markdown",
   "id": "4af69c11-4c8c-4acc-86ae-dc214e20edbc",
   "metadata": {},
   "source": [
    "# generator\n",
    "Generators in Python ek special type ke iterators hote hain jo lazy evaluation karte hain — iska matlab hai ki ye ek saath saare elements memory mein load nahi karte, balki jab chahiye tabhi generate karte hain! "
   ]
  },
  {
   "cell_type": "code",
   "execution_count": 73,
   "id": "c67e35ab-1936-4803-9afe-73747018dc20",
   "metadata": {},
   "outputs": [
    {
     "name": "stdout",
     "output_type": "stream",
     "text": [
      "5\n"
     ]
    }
   ],
   "source": [
    "def topten():\n",
    "    yield 5\n",
    "values=topten()\n",
    "for val in values:\n",
    "  print(val)"
   ]
  },
  {
   "cell_type": "code",
   "execution_count": 75,
   "id": "841ee749-2c52-4168-98e5-40697525f2aa",
   "metadata": {},
   "outputs": [
    {
     "name": "stdout",
     "output_type": "stream",
     "text": [
      "1\n",
      "2\n",
      "3\n"
     ]
    }
   ],
   "source": [
    "def my_generator():\n",
    "    yield 1\n",
    "    yield 2\n",
    "    yield 3\n",
    "\n",
    "gen = my_generator()\n",
    "print(next(gen))  \n",
    "print(next(gen))  \n",
    "print(next(gen))  \n"
   ]
  },
  {
   "cell_type": "markdown",
   "id": "8966096c-7ec0-4956-9b7b-fd2c0c06fd56",
   "metadata": {},
   "source": [
    "# Lambda Expressions"
   ]
  },
  {
   "cell_type": "code",
   "execution_count": 9,
   "id": "ed9e3a38-4b6c-4b20-b2d4-f6ec6b24bbd0",
   "metadata": {},
   "outputs": [
    {
     "data": {
      "text/plain": [
       "5"
      ]
     },
     "execution_count": 9,
     "metadata": {},
     "output_type": "execute_result"
    }
   ],
   "source": [
    "add=lambda x,y:x+y\n",
    "add(2,3)"
   ]
  },
  {
   "cell_type": "code",
   "execution_count": 11,
   "id": "7c7165fb-f137-484e-8255-f9aada411216",
   "metadata": {},
   "outputs": [
    {
     "data": {
      "text/plain": [
       "4"
      ]
     },
     "execution_count": 11,
     "metadata": {},
     "output_type": "execute_result"
    }
   ],
   "source": [
    "sq=lambda x:x*x\n",
    "sq(2)"
   ]
  },
  {
   "cell_type": "code",
   "execution_count": 15,
   "id": "3ec77722-64d2-4b0f-9828-9aca21c8a917",
   "metadata": {},
   "outputs": [
    {
     "name": "stdout",
     "output_type": "stream",
     "text": [
      "4\n"
     ]
    }
   ],
   "source": [
    "# normal function:\n",
    "def sq(n):\n",
    "    return n*n\n",
    "n=2\n",
    "print(sq(n))"
   ]
  },
  {
   "cell_type": "markdown",
   "id": "dca8eee6-8b99-4d48-b369-44f0aefec3cd",
   "metadata": {},
   "source": [
    "# zip"
   ]
  },
  {
   "cell_type": "code",
   "execution_count": 32,
   "id": "52c28cb2-2e83-4b2a-ba6b-867c4b21c7ff",
   "metadata": {},
   "outputs": [
    {
     "name": "stdout",
     "output_type": "stream",
     "text": [
      "[('nisha', 2), ('ayush', 3), ('mayank', 4)]\n"
     ]
    }
   ],
   "source": [
    "l1=['nisha','ayush','mayank']\n",
    "l2=[2,3,4]\n",
    "print(list(zip(l1,l2)))"
   ]
  },
  {
   "cell_type": "markdown",
   "id": "95307dd9-a352-444a-b50f-e942b4e26959",
   "metadata": {},
   "source": [
    "# enumerate() — elements ke saath unke index bhi deta hai."
   ]
  },
  {
   "cell_type": "code",
   "execution_count": 35,
   "id": "ebcd248c-70b0-4824-8b15-173de41d7391",
   "metadata": {},
   "outputs": [
    {
     "name": "stdout",
     "output_type": "stream",
     "text": [
      "0 2\n",
      "1 3\n",
      "2 4\n",
      "3 56\n"
     ]
    }
   ],
   "source": [
    "l=[2,3,4,56]\n",
    "for index,value in enumerate(l):\n",
    "    print(index,value)"
   ]
  },
  {
   "cell_type": "code",
   "execution_count": null,
   "id": "a93c6347-a3d3-4a69-8f1b-06ee0e120de2",
   "metadata": {},
   "outputs": [],
   "source": []
  }
 ],
 "metadata": {
  "kernelspec": {
   "display_name": "Python 3 (ipykernel)",
   "language": "python",
   "name": "python3"
  },
  "language_info": {
   "codemirror_mode": {
    "name": "ipython",
    "version": 3
   },
   "file_extension": ".py",
   "mimetype": "text/x-python",
   "name": "python",
   "nbconvert_exporter": "python",
   "pygments_lexer": "ipython3",
   "version": "3.12.7"
  },
  "widgets": {
   "application/vnd.jupyter.widget-state+json": {
    "state": {},
    "version_major": 2,
    "version_minor": 0
   }
  }
 },
 "nbformat": 4,
 "nbformat_minor": 5
}

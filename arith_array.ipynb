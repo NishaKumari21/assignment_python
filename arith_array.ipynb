{
 "cells": [
  {
   "cell_type": "code",
   "execution_count": 14,
   "id": "105dd0f5-5def-4895-b99c-95c4ad236096",
   "metadata": {},
   "outputs": [
    {
     "name": "stdout",
     "output_type": "stream",
     "text": [
      "first method: [ 6  8 10 12]\n",
      "second method: [ 6  8 10 12]\n"
     ]
    }
   ],
   "source": [
    "# arithmetic operation on array\n",
    "# part of numpy\n",
    "# add\n",
    "import numpy as np\n",
    "a=np.array([2,3,4,5])\n",
    "b=np.array([4,5,6,7])\n",
    "print(\"first method:\",a+b)\n",
    "add=np.add(a,b)\n",
    "print(\"second method:\",add)"
   ]
  },
  {
   "cell_type": "code",
   "execution_count": 12,
   "id": "57addb0a-0a78-4786-9b1b-958cd74bc17e",
   "metadata": {},
   "outputs": [
    {
     "name": "stdout",
     "output_type": "stream",
     "text": [
      "first method: [-2 -2 -2 -2]\n",
      "second method: [-2 -2 -2 -2]\n"
     ]
    }
   ],
   "source": [
    "import numpy as np\n",
    "a=np.array([2,3,4,5])\n",
    "b=np.array([4,5,6,7])\n",
    "print(\"first method:\",a-b)\n",
    "sub=np.subtract(a,b)\n",
    "print(\"second method:\",sub)"
   ]
  },
  {
   "cell_type": "code",
   "execution_count": 16,
   "id": "18e43f24-107b-4a3d-ac19-33424a5d2e0c",
   "metadata": {},
   "outputs": [
    {
     "name": "stdout",
     "output_type": "stream",
     "text": [
      "first method: [ 8 15 24 35]\n",
      "second method: [ 8 15 24 35]\n"
     ]
    }
   ],
   "source": [
    "import numpy as np\n",
    "a=np.array([2,3,4,5])\n",
    "b=np.array([4,5,6,7])\n",
    "print(\"first method:\",a*b)\n",
    "multiply=np.multiply(a,b)\n",
    "print(\"second method:\",multiply)"
   ]
  },
  {
   "cell_type": "code",
   "execution_count": 18,
   "id": "fb1787b0-7215-4a5f-94ea-1b5e0274479d",
   "metadata": {},
   "outputs": [
    {
     "name": "stdout",
     "output_type": "stream",
     "text": [
      "first method: [0.5        0.6        0.66666667 0.71428571]\n",
      "second method: [0.5        0.6        0.66666667 0.71428571]\n"
     ]
    }
   ],
   "source": [
    "import numpy as np\n",
    "a=np.array([2,3,4,5])\n",
    "b=np.array([4,5,6,7])\n",
    "print(\"first method:\",a/b)\n",
    "divide=np.divide(a,b)\n",
    "print(\"second method:\",divide)"
   ]
  },
  {
   "cell_type": "code",
   "execution_count": 24,
   "id": "0f577688-0cec-48cb-afae-6004d0d1ecb2",
   "metadata": {},
   "outputs": [
    {
     "name": "stdout",
     "output_type": "stream",
     "text": [
      "max: 57\n",
      "min: 3\n"
     ]
    }
   ],
   "source": [
    "# max and min function in numpy\n",
    "a=np.array([3,4,6,12,44,57])\n",
    "print(\"max:\",np.max(a))\n",
    "print(\"min:\",np.min(a))"
   ]
  },
  {
   "cell_type": "code",
   "execution_count": null,
   "id": "b67bab8a-4603-4147-bff1-6b8ccecb2c6a",
   "metadata": {},
   "outputs": [],
   "source": [
    "# np.max() aur np.min() short aur easy-to-remember versions hain. Yeh beginners ke liye zyada intuitive (samajhne mein aasan) lagte hain.\n",
    "# np.amax() aur np.amin() thoda zyada descriptive hain. Yeh np.mean(), np.median(), jaise baaki statistical functions ke naming pattern ko follow karte hain, taaki sabka style consistent lage."
   ]
  },
  {
   "cell_type": "code",
   "execution_count": 26,
   "id": "5bb9fafc-2f93-48c4-a05e-b1020902faad",
   "metadata": {},
   "outputs": [
    {
     "name": "stdout",
     "output_type": "stream",
     "text": [
      "max: 57\n",
      "min: 3\n"
     ]
    }
   ],
   "source": [
    "# max and min function in numpy\n",
    "a=np.array([3,4,6,12,44,57])\n",
    "print(\"max:\",np.amax(a))\n",
    "print(\"min:\",np.amin(a))"
   ]
  },
  {
   "cell_type": "markdown",
   "id": "29c370ef-07df-4547-9400-f60a874dbdf4",
   "metadata": {},
   "source": [
    "# array indexing/slicing"
   ]
  },
  {
   "cell_type": "code",
   "execution_count": null,
   "id": "657c1015-597e-4643-85b4-6233f8313b2b",
   "metadata": {},
   "outputs": [],
   "source": [
    "# array indexing/slicing\n",
    "import numpy as np\n",
    "arr=np.array([3,4,5,6,7,10])\n",
    "arr\n",
    "print(arr[2:])\n",
    "print(arr[:])"
   ]
  }
 ],
 "metadata": {
  "kernelspec": {
   "display_name": "Python 3 (ipykernel)",
   "language": "python",
   "name": "python3"
  },
  "language_info": {
   "codemirror_mode": {
    "name": "ipython",
    "version": 3
   },
   "file_extension": ".py",
   "mimetype": "text/x-python",
   "name": "python",
   "nbconvert_exporter": "python",
   "pygments_lexer": "ipython3",
   "version": "3.12.7"
  },
  "widgets": {
   "application/vnd.jupyter.widget-state+json": {
    "state": {},
    "version_major": 2,
    "version_minor": 0
   }
  }
 },
 "nbformat": 4,
 "nbformat_minor": 5
}

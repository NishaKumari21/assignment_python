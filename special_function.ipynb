{
 "cells": [
  {
   "cell_type": "markdown",
   "id": "e5ab6058-d594-466f-9d1a-4a712fd3929a",
   "metadata": {},
   "source": [
    " # zip() Function\n",
    " #zip() alag-alag iterables (lists, tuples, etc.) ke elements ko pair karke ek iterator banata hai.\n",
    " #zip() position-wise pairing karta hai."
   ]
  },
  {
   "cell_type": "code",
   "execution_count": 16,
   "id": "c9a46901-7257-4140-9781-5f69c71432e1",
   "metadata": {},
   "outputs": [
    {
     "name": "stdout",
     "output_type": "stream",
     "text": [
      "[(1, 'a'), (2, 'b'), (34, 'c'), (3, 'd')]\n"
     ]
    }
   ],
   "source": [
    "list_1=[1,2,34,3]\n",
    "list_2=['a','b','c','d']\n",
    "zipped=zip(list_1,list_2)\n",
    "print(list(zipped))"
   ]
  },
  {
   "cell_type": "markdown",
   "id": "dd60f327-7747-475c-846a-bd964c122a06",
   "metadata": {},
   "source": [
    "# Matrix Transpose"
   ]
  },
  {
   "cell_type": "code",
   "execution_count": 30,
   "id": "a9fbb097-509d-4732-8613-d714acd5a3b4",
   "metadata": {},
   "outputs": [
    {
     "name": "stdout",
     "output_type": "stream",
     "text": [
      "[[1, 4, 7], [2, 5, 8], [3, 6, 9]]\n"
     ]
    }
   ],
   "source": [
    "\n",
    "matrix = [[1,2,3], [4,5,6], [7,8,9]]\n",
    "print([list(row) for row in zip(*matrix)])\n",
    "# zip(*matrix) rows ko column mei convert kr rha"
   ]
  },
  {
   "cell_type": "code",
   "execution_count": 32,
   "id": "cd20cc7b-9218-42e0-8234-29221ea981a6",
   "metadata": {},
   "outputs": [
    {
     "name": "stdout",
     "output_type": "stream",
     "text": [
      "68\n"
     ]
    }
   ],
   "source": [
    "l=[2,3,4,5]\n",
    "l2=[3,4,5,6]\n",
    "print(sum([i*j for i,j in zip(l,l2)]))"
   ]
  },
  {
   "cell_type": "markdown",
   "id": "e4c58f6a-2659-40f8-9fed-f49427ec6c3a",
   "metadata": {},
   "source": [
    "# filter() Function\n",
    "Definition:\n",
    "filter() ek condition check karta hai aur sirf True wale elements ko return karta hai."
   ]
  },
  {
   "cell_type": "code",
   "execution_count": 41,
   "id": "cbb2520d-c0be-457a-be4d-56aeaee423a2",
   "metadata": {},
   "outputs": [
    {
     "name": "stdout",
     "output_type": "stream",
     "text": [
      "[4, 2, 6, 8]\n"
     ]
    }
   ],
   "source": [
    "def eg(n):\n",
    "    return n%2==0\n",
    "n=[3,4,2,6,8]\n",
    "e=filter(eg,n)\n",
    "print(list(e))"
   ]
  },
  {
   "cell_type": "code",
   "execution_count": 47,
   "id": "e904afdf-575b-4e0a-b4e4-ec83ba3a41b0",
   "metadata": {},
   "outputs": [
    {
     "name": "stdout",
     "output_type": "stream",
     "text": [
      "[2024]\n"
     ]
    }
   ],
   "source": [
    "def four(n):\n",
    "    return (n%4==0 and n%100!=0 or n%400==0)\n",
    "n=[2025,2024,3000]\n",
    "e=filter(four,n)\n",
    "print(list(e))"
   ]
  },
  {
   "cell_type": "markdown",
   "id": "cc57d7ec-f578-4950-9c30-7de8374a3d45",
   "metadata": {},
   "source": [
    "# lambda Function\n",
    "Definition:\n",
    "lambda ek chhota aur anonymous function hota hai, jo ek hi line me likha jata hai."
   ]
  },
  {
   "cell_type": "code",
   "execution_count": 63,
   "id": "8fc43fb1-ae1a-46ab-864c-14d5d7eb3e66",
   "metadata": {},
   "outputs": [
    {
     "name": "stdout",
     "output_type": "stream",
     "text": [
      "True\n"
     ]
    }
   ],
   "source": [
    "even=lambda x:x%2==0\n",
    "print(even(4))\n"
   ]
  },
  {
   "cell_type": "code",
   "execution_count": 65,
   "id": "3a09042c-f1a2-4eb7-a73a-e305b9e9c31c",
   "metadata": {},
   "outputs": [
    {
     "name": "stdout",
     "output_type": "stream",
     "text": [
      "9.0\n"
     ]
    }
   ],
   "source": [
    "add=lambda x,y,z:x+y+z/2\n",
    "print(add(2,4,6))\n"
   ]
  },
  {
   "cell_type": "markdown",
   "id": "ddc4d2b9-b6f3-47a9-bdff-4f0884a1b483",
   "metadata": {},
   "source": [
    "# map() Function\n",
    "Definition:\n",
    "map() ek function ko har element pe apply karta hai aur modified list return karta hai."
   ]
  },
  {
   "cell_type": "code",
   "execution_count": null,
   "id": "2746587f-30d5-41a0-831f-da788204fa3b",
   "metadata": {},
   "outputs": [],
   "source": [
    "# map()\tHar element pe function apply karta hai\tmap(lambda x: x*2, [1, 2, 3]) → [2, 4, 6]\n"
   ]
  },
  {
   "cell_type": "code",
   "execution_count": 68,
   "id": "bf58e874-9cca-4955-a8ed-eabf84eaf7ae",
   "metadata": {},
   "outputs": [
    {
     "name": "stdout",
     "output_type": "stream",
     "text": [
      "[1, 4, 9, 16]\n"
     ]
    }
   ],
   "source": [
    "def square(num):\n",
    "    return num ** 2\n",
    "\n",
    "numbers = [1, 2, 3, 4]\n",
    "squared = map(square, numbers)\n",
    "print(list(squared))"
   ]
  },
  {
   "cell_type": "code",
   "execution_count": null,
   "id": "5b165cb9-b722-4e89-b0d6-a558c0d57703",
   "metadata": {},
   "outputs": [],
   "source": []
  }
 ],
 "metadata": {
  "kernelspec": {
   "display_name": "Python 3 (ipykernel)",
   "language": "python",
   "name": "python3"
  },
  "language_info": {
   "codemirror_mode": {
    "name": "ipython",
    "version": 3
   },
   "file_extension": ".py",
   "mimetype": "text/x-python",
   "name": "python",
   "nbconvert_exporter": "python",
   "pygments_lexer": "ipython3",
   "version": "3.12.7"
  },
  "widgets": {
   "application/vnd.jupyter.widget-state+json": {
    "state": {},
    "version_major": 2,
    "version_minor": 0
   }
  }
 },
 "nbformat": 4,
 "nbformat_minor": 5
}

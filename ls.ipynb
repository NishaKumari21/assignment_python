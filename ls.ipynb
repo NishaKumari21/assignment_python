{
 "cells": [
  {
   "cell_type": "markdown",
   "id": "9bdcddde-0eff-4581-92eb-da25ec749acc",
   "metadata": {},
   "source": [
    "# List\n",
    "Input: arr = [54, 43, 2, 1, 5]\n",
    "Output: 54 43 2 1 5\n",
    "Explanation: Just traverse and print the numbers."
   ]
  },
  {
   "cell_type": "code",
   "execution_count": 2,
   "id": "890a781b-05e6-4a1f-b660-e15ea3bd3ae8",
   "metadata": {},
   "outputs": [
    {
     "name": "stdin",
     "output_type": "stream",
     "text": [
      " 2 34 2\n"
     ]
    }
   ],
   "source": [
    "def listTraversal(arr):\n",
    "     b=list(map(int, arr.split()))\n",
    "arr=input()\n",
    "\n",
    "listTraversal(arr)"
   ]
  },
  {
   "cell_type": "code",
   "execution_count": 3,
   "id": "75f50d36-626c-4cde-be85-b37ec5501134",
   "metadata": {},
   "outputs": [
    {
     "name": "stdout",
     "output_type": "stream",
     "text": [
      "<class 'list'>\n",
      "4 5 6 7\n"
     ]
    }
   ],
   "source": [
    "arr=(4,5,6,7)\n",
    "a=list(arr)\n",
    "print(type(a))\n",
    "# a = arr.replace(\",\", \" \")\n",
    "print(*a)"
   ]
  },
  {
   "cell_type": "code",
   "execution_count": 4,
   "id": "960fa38a-519e-4f95-acd2-fe927ecb420f",
   "metadata": {},
   "outputs": [
    {
     "name": "stdout",
     "output_type": "stream",
     "text": [
      "4 5 6 7\n"
     ]
    }
   ],
   "source": [
    "arr = \"4,5,6,7\"  # String with commas\n",
    "a = arr.replace(\",\", \" \")  # Replace commas with spaces\n",
    "print(a) "
   ]
  },
  {
   "cell_type": "code",
   "execution_count": 5,
   "id": "daca89ba-d50f-4fd4-ad2f-069a0629f7e6",
   "metadata": {},
   "outputs": [
    {
     "name": "stdin",
     "output_type": "stream",
     "text": [
      " 3 4 5\n"
     ]
    },
    {
     "name": "stdout",
     "output_type": "stream",
     "text": [
      "3 4 5\n"
     ]
    }
   ],
   "source": [
    "def listTraversal(arr):\n",
    "    arr1=list(map(int, arr.split()))\n",
    "    print(*arr1)\n",
    "    #Write your code below\n",
    "    \n",
    "arr=input()\n",
    "listTraversal(arr)"
   ]
  },
  {
   "cell_type": "markdown",
   "id": "a76afc50-909d-459c-9869-20a5ea1e9320",
   "metadata": {},
   "source": [
    "Input: arr = [54, 43, 2, 1, 5]\n",
    "Output: 5 1 2 43 54\n",
    "Explanation: Just traverse in reverse and print the numbers."
   ]
  },
  {
   "cell_type": "code",
   "execution_count": 7,
   "id": "281d2cd3-8559-42de-b831-5976c5706d08",
   "metadata": {},
   "outputs": [
    {
     "name": "stdin",
     "output_type": "stream",
     "text": [
      " 3 4 5\n"
     ]
    },
    {
     "name": "stdout",
     "output_type": "stream",
     "text": [
      "5   4   3\n"
     ]
    }
   ],
   "source": [
    "def abc(arr):\n",
    "    l.reverse()\n",
    "    print(*l)\n",
    "arr=input()\n",
    "l=list(arr)\n",
    "abc(arr)"
   ]
  },
  {
   "cell_type": "code",
   "execution_count": 8,
   "id": "f88af758-f0f6-47e5-8a01-883702e81186",
   "metadata": {},
   "outputs": [
    {
     "name": "stdout",
     "output_type": "stream",
     "text": [
      "[678, 23, 5, 1]\n"
     ]
    }
   ],
   "source": [
    "l=[5,678,23,1]\n",
    "l.sort(reverse=True)\n",
    "print(l)"
   ]
  },
  {
   "cell_type": "code",
   "execution_count": 9,
   "id": "d6d2e8f8-63ae-47f0-9880-84cd0d4fa2a8",
   "metadata": {},
   "outputs": [
    {
     "name": "stdout",
     "output_type": "stream",
     "text": [
      "[1, 23, 678, 5]\n"
     ]
    }
   ],
   "source": [
    "l=[5,678,23,1]\n",
    "l.reverse()\n",
    "print(l)"
   ]
  },
  {
   "cell_type": "code",
   "execution_count": null,
   "id": "731594c7-b317-4135-ab4f-f1db35a5a943",
   "metadata": {},
   "outputs": [],
   "source": []
  },
  {
   "cell_type": "code",
   "execution_count": 10,
   "id": "d6796acb-cdc9-4cf9-981d-d7b0776240d7",
   "metadata": {},
   "outputs": [
    {
     "name": "stdin",
     "output_type": "stream",
     "text": [
      " 3 4 5 6\n"
     ]
    },
    {
     "name": "stdout",
     "output_type": "stream",
     "text": [
      "['6', '5', '4', '3']\n"
     ]
    }
   ],
   "source": [
    "def abc(arr):\n",
    "    l.reverse()\n",
    "    print(l)\n",
    "arr=input()\n",
    "arr1=arr.split()\n",
    "l=list(arr1)\n",
    "abc(arr)"
   ]
  },
  {
   "cell_type": "code",
   "execution_count": 11,
   "id": "3981bf89-cb54-4ef0-9d69-ab4e90f244c4",
   "metadata": {},
   "outputs": [
    {
     "data": {
      "text/plain": [
       "[2, 4, 5, 7, 8]"
      ]
     },
     "execution_count": 11,
     "metadata": {},
     "output_type": "execute_result"
    }
   ],
   "source": [
    "# to get smaller value in other list\n",
    "def get_smaller(l):\n",
    "    new_list=[]\n",
    "    for i in l:\n",
    "        if i<x:\n",
    "            new_list.append(i)\n",
    "    return new_list\n",
    "        \n",
    "x=10\n",
    "l=[11,23,2,4,5,7,8,90]\n",
    "get_smaller(l)\n",
    "        \n"
   ]
  },
  {
   "cell_type": "code",
   "execution_count": 12,
   "id": "e2761381-b366-424a-830e-d344cb5348eb",
   "metadata": {},
   "outputs": [
    {
     "data": {
      "text/plain": [
       "([3, 5], [2, 4, 6, 12])"
      ]
     },
     "execution_count": 12,
     "metadata": {},
     "output_type": "execute_result"
    }
   ],
   "source": [
    "def test(l):\n",
    "    odd_list=[]\n",
    "    even_list=[]\n",
    "    for i in l:\n",
    "        if i%2==0:\n",
    "            even_list.append(i)\n",
    "    \n",
    "        else:\n",
    "            odd_list.append(i)\n",
    "    return odd_list,even_list\n",
    "l=[2,3,4,5,6,12]\n",
    "test(l)\n",
    "            \n",
    "        "
   ]
  },
  {
   "cell_type": "code",
   "execution_count": 27,
   "id": "5c814d55-ff08-45d4-8591-c5f4a70d8266",
   "metadata": {},
   "outputs": [
    {
     "name": "stdout",
     "output_type": "stream",
     "text": [
      "<class 'set'>\n",
      "{2, 3, 4, 5, 12}\n",
      "[2, 3, 4, 5, 12]\n"
     ]
    }
   ],
   "source": [
    "\n",
    "# Count Distinct Elements in A List\n",
    "num=[2,3,4,5,12,2,2,2,2,3,3,3]\n",
    "s=set(num)\n",
    "print(type(s))\n",
    "print(s)\n",
    "new_list=list(s)\n",
    "print(new_list)"
   ]
  },
  {
   "cell_type": "code",
   "execution_count": 53,
   "id": "c15cdf03-5c1e-44d2-9cdc-ab9bbc25a08a",
   "metadata": {},
   "outputs": [
    {
     "data": {
      "text/plain": [
       "True"
      ]
     },
     "execution_count": 53,
     "metadata": {},
     "output_type": "execute_result"
    }
   ],
   "source": [
    "def is_sorted(arr):\n",
    "    return arr==sorted(arr)\n",
    "arr=[2,3,4,5]\n",
    "is_sorted(arr)"
   ]
  },
  {
   "cell_type": "markdown",
   "id": "b3e7eab5-f279-4946-946a-ac499d157d9c",
   "metadata": {},
   "source": [
    "List: [50, 40, 40]\n",
    "Sum: 50 + 40 + 40 = 130\n",
    "Number of Elements: 3\n",
    "Average: 130 / 3 ≈ 43.33"
   ]
  },
  {
   "cell_type": "code",
   "execution_count": 55,
   "id": "516092eb-ce87-447d-b16f-481f32c5d4cc",
   "metadata": {},
   "outputs": [
    {
     "name": "stdout",
     "output_type": "stream",
     "text": [
      "25.0\n"
     ]
    }
   ],
   "source": [
    "def calculate_average(input_list):\n",
    "    sum_of_elements = 0  \n",
    "    for x in input_list: \n",
    "        sum_of_elements += x \n",
    "    count_of_elements = len(input_list)\n",
    "    average = sum_of_elements / count_of_elements \n",
    "    return average \n",
    "  \n",
    "numbers = [10, 20, 30, 40]\n",
    "print(calculate_average(numbers))\n"
   ]
  },
  {
   "cell_type": "code",
   "execution_count": null,
   "id": "648892d2-845a-4d87-8158-4bd8d4a6a952",
   "metadata": {},
   "outputs": [],
   "source": []
  }
 ],
 "metadata": {
  "kernelspec": {
   "display_name": "Python 3 (ipykernel)",
   "language": "python",
   "name": "python3"
  },
  "language_info": {
   "codemirror_mode": {
    "name": "ipython",
    "version": 3
   },
   "file_extension": ".py",
   "mimetype": "text/x-python",
   "name": "python",
   "nbconvert_exporter": "python",
   "pygments_lexer": "ipython3",
   "version": "3.12.7"
  },
  "widgets": {
   "application/vnd.jupyter.widget-state+json": {
    "state": {},
    "version_major": 2,
    "version_minor": 0
   }
  }
 },
 "nbformat": 4,
 "nbformat_minor": 5
}

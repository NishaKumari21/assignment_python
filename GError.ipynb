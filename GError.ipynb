{
 "cells": [
  {
   "cell_type": "code",
   "execution_count": null,
   "id": "4461e7eb-e23c-444a-b5a6-331ff49d1af5",
   "metadata": {},
   "outputs": [],
   "source": [
    "#understanding the different kinds of Error:"
   ]
  },
  {
   "cell_type": "markdown",
   "id": "6c2dadcf-20c2-4f36-887f-10963ffd2755",
   "metadata": {},
   "source": [
    "1.syntax error:\n",
    "occur when grammar is wrong."
   ]
  },
  {
   "cell_type": "code",
   "execution_count": 1,
   "id": "f2ba1cbf-896f-4407-b74c-57b7d41c23e6",
   "metadata": {},
   "outputs": [
    {
     "ename": "SyntaxError",
     "evalue": "unterminated string literal (detected at line 1) (321628795.py, line 1)",
     "output_type": "error",
     "traceback": [
      "\u001b[1;36m  Cell \u001b[1;32mIn[1], line 1\u001b[1;36m\u001b[0m\n\u001b[1;33m    print(\"hello !\u001b[0m\n\u001b[1;37m          ^\u001b[0m\n\u001b[1;31mSyntaxError\u001b[0m\u001b[1;31m:\u001b[0m unterminated string literal (detected at line 1)\n"
     ]
    }
   ],
   "source": [
    "print(\"hello !"
   ]
  },
  {
   "cell_type": "markdown",
   "id": "d7110194-9f0f-456b-be60-bb208bb1b128",
   "metadata": {},
   "source": [
    "2.Runtime Error ⏳\n",
    "Jab code sahi likha ho, lekin run karte time problem aaye."
   ]
  },
  {
   "cell_type": "code",
   "execution_count": 3,
   "id": "c0ed1164-0a94-4ea2-a905-7546c330f0f4",
   "metadata": {},
   "outputs": [
    {
     "ename": "ZeroDivisionError",
     "evalue": "division by zero",
     "output_type": "error",
     "traceback": [
      "\u001b[1;31m---------------------------------------------------------------------------\u001b[0m",
      "\u001b[1;31mZeroDivisionError\u001b[0m                         Traceback (most recent call last)",
      "Cell \u001b[1;32mIn[3], line 1\u001b[0m\n\u001b[1;32m----> 1\u001b[0m \u001b[38;5;28mprint\u001b[39m(\u001b[38;5;241;43m10\u001b[39;49m\u001b[38;5;241;43m/\u001b[39;49m\u001b[38;5;241;43m0\u001b[39;49m)\n",
      "\u001b[1;31mZeroDivisionError\u001b[0m: division by zero"
     ]
    }
   ],
   "source": [
    "print(10/0)"
   ]
  },
  {
   "cell_type": "markdown",
   "id": "0c1b2b5d-0933-4cda-90ab-40472a0bb335",
   "metadata": {},
   "source": [
    "3.Logical Error 🧠\n",
    "Jab code run toh ho jaye, par result galat de"
   ]
  },
  {
   "cell_type": "code",
   "execution_count": 5,
   "id": "ad109c3d-843c-48f7-b649-1032bfad9e20",
   "metadata": {},
   "outputs": [
    {
     "data": {
      "text/plain": [
       "10"
      ]
     },
     "execution_count": 5,
     "metadata": {},
     "output_type": "execute_result"
    }
   ],
   "source": [
    "def add(a,b):\n",
    "    return a-b\n",
    "a=20\n",
    "b=10\n",
    "add(a,b)\n",
    "# add hona chaiye bt subtract ho rha logically incorrect h"
   ]
  },
  {
   "cell_type": "markdown",
   "id": "8d3b01e1-478c-4742-bbf7-eb4df66ef390",
   "metadata": {},
   "source": [
    "4.Name Error 📛\n",
    "Jab undefined variable use karte ho.\n"
   ]
  },
  {
   "cell_type": "code",
   "execution_count": 7,
   "id": "52bc2a77-d38e-4aa4-9e42-61bcab030435",
   "metadata": {},
   "outputs": [
    {
     "ename": "NameError",
     "evalue": "name 'abc' is not defined",
     "output_type": "error",
     "traceback": [
      "\u001b[1;31m---------------------------------------------------------------------------\u001b[0m",
      "\u001b[1;31mNameError\u001b[0m                                 Traceback (most recent call last)",
      "Cell \u001b[1;32mIn[7], line 1\u001b[0m\n\u001b[1;32m----> 1\u001b[0m \u001b[38;5;28mprint\u001b[39m(\u001b[43mabc\u001b[49m)\n",
      "\u001b[1;31mNameError\u001b[0m: name 'abc' is not defined"
     ]
    }
   ],
   "source": [
    "print(abc)"
   ]
  },
  {
   "cell_type": "markdown",
   "id": "131e1c50-84b5-49bd-a20e-2812e323f471",
   "metadata": {},
   "source": [
    "5.Type Error \n",
    "Jab galat type ke objects par operation karte ho."
   ]
  },
  {
   "cell_type": "code",
   "execution_count": 9,
   "id": "48c93e6b-6405-4a50-a3ed-be6921f248dd",
   "metadata": {},
   "outputs": [
    {
     "ename": "TypeError",
     "evalue": "can only concatenate str (not \"int\") to str",
     "output_type": "error",
     "traceback": [
      "\u001b[1;31m---------------------------------------------------------------------------\u001b[0m",
      "\u001b[1;31mTypeError\u001b[0m                                 Traceback (most recent call last)",
      "Cell \u001b[1;32mIn[9], line 1\u001b[0m\n\u001b[1;32m----> 1\u001b[0m \u001b[38;5;28mprint\u001b[39m(\u001b[38;5;124;43m\"\u001b[39;49m\u001b[38;5;124;43mnisha\u001b[39;49m\u001b[38;5;124;43m\"\u001b[39;49m\u001b[38;5;241;43m+\u001b[39;49m\u001b[38;5;241;43m1\u001b[39;49m)\n",
      "\u001b[1;31mTypeError\u001b[0m: can only concatenate str (not \"int\") to str"
     ]
    }
   ],
   "source": [
    "print(\"nisha\"+1)"
   ]
  },
  {
   "cell_type": "markdown",
   "id": "e1f4b97c-7438-4f86-9946-1523df417eaa",
   "metadata": {},
   "source": [
    "6.Index Error \n",
    "Jab list ke bahar ka index access karte ho."
   ]
  },
  {
   "cell_type": "code",
   "execution_count": 11,
   "id": "fe559eb6-b4a6-401d-944f-59581a079a52",
   "metadata": {},
   "outputs": [
    {
     "ename": "IndexError",
     "evalue": "list index out of range",
     "output_type": "error",
     "traceback": [
      "\u001b[1;31m---------------------------------------------------------------------------\u001b[0m",
      "\u001b[1;31mIndexError\u001b[0m                                Traceback (most recent call last)",
      "Cell \u001b[1;32mIn[11], line 2\u001b[0m\n\u001b[0;32m      1\u001b[0m l\u001b[38;5;241m=\u001b[39m[\u001b[38;5;241m1\u001b[39m,\u001b[38;5;241m2\u001b[39m,\u001b[38;5;241m3\u001b[39m,\u001b[38;5;241m4\u001b[39m]\n\u001b[1;32m----> 2\u001b[0m \u001b[38;5;28mprint\u001b[39m(\u001b[43ml\u001b[49m\u001b[43m[\u001b[49m\u001b[38;5;241;43m6\u001b[39;49m\u001b[43m]\u001b[49m)\n",
      "\u001b[1;31mIndexError\u001b[0m: list index out of range"
     ]
    }
   ],
   "source": [
    "l=[1,2,3,4]\n",
    "print(l[6])"
   ]
  },
  {
   "cell_type": "markdown",
   "id": "70ca2b38-86de-4ad9-82a9-caf05bb5ae36",
   "metadata": {},
   "source": [
    "7.Key Error 🔑\n",
    "Jab dictionary mein missing key access karte ho.\n"
   ]
  },
  {
   "cell_type": "code",
   "execution_count": 17,
   "id": "449f7d83-05bf-4044-9d31-abc58a2cb7f0",
   "metadata": {},
   "outputs": [
    {
     "ename": "KeyError",
     "evalue": "'age'",
     "output_type": "error",
     "traceback": [
      "\u001b[1;31m---------------------------------------------------------------------------\u001b[0m",
      "\u001b[1;31mKeyError\u001b[0m                                  Traceback (most recent call last)",
      "Cell \u001b[1;32mIn[17], line 2\u001b[0m\n\u001b[0;32m      1\u001b[0m my_dic\u001b[38;5;241m=\u001b[39m{\u001b[38;5;124m\"\u001b[39m\u001b[38;5;124mname\u001b[39m\u001b[38;5;124m\"\u001b[39m:\u001b[38;5;124m\"\u001b[39m\u001b[38;5;124mnisha\u001b[39m\u001b[38;5;124m\"\u001b[39m}\n\u001b[1;32m----> 2\u001b[0m \u001b[38;5;28mprint\u001b[39m(\u001b[43mmy_dic\u001b[49m\u001b[43m[\u001b[49m\u001b[38;5;124;43m'\u001b[39;49m\u001b[38;5;124;43mage\u001b[39;49m\u001b[38;5;124;43m'\u001b[39;49m\u001b[43m]\u001b[49m)\n",
      "\u001b[1;31mKeyError\u001b[0m: 'age'"
     ]
    }
   ],
   "source": [
    "my_dic={\"name\":\"nisha\"}\n",
    "print(my_dic['age'])"
   ]
  },
  {
   "cell_type": "markdown",
   "id": "0e087a14-2614-4c6b-8c9b-98be376b1ce4",
   "metadata": {},
   "source": [
    "8.Attribute Error \n",
    "Jab galat method use karte ho kisi object par."
   ]
  },
  {
   "cell_type": "code",
   "execution_count": 21,
   "id": "f6852d86-1763-46c5-9f12-6e0820b60177",
   "metadata": {},
   "outputs": [
    {
     "ename": "AttributeError",
     "evalue": "'int' object has no attribute 'append'",
     "output_type": "error",
     "traceback": [
      "\u001b[1;31m---------------------------------------------------------------------------\u001b[0m",
      "\u001b[1;31mAttributeError\u001b[0m                            Traceback (most recent call last)",
      "Cell \u001b[1;32mIn[21], line 2\u001b[0m\n\u001b[0;32m      1\u001b[0m num\u001b[38;5;241m=\u001b[39m\u001b[38;5;241m2\u001b[39m\n\u001b[1;32m----> 2\u001b[0m \u001b[43mnum\u001b[49m\u001b[38;5;241;43m.\u001b[39;49m\u001b[43mappend\u001b[49m()\n\u001b[0;32m      3\u001b[0m \u001b[38;5;28mprint\u001b[39m(num)\n",
      "\u001b[1;31mAttributeError\u001b[0m: 'int' object has no attribute 'append'"
     ]
    }
   ],
   "source": [
    "num=2\n",
    "num.append()\n",
    "print(num)"
   ]
  },
  {
   "cell_type": "markdown",
   "id": "f454537e-5086-4906-9b57-7e7e550666ba",
   "metadata": {},
   "source": [
    "9.Indentation Error \n",
    "Jab indentation (space/tab) sahi nahi hoti."
   ]
  },
  {
   "cell_type": "code",
   "execution_count": 23,
   "id": "c91a2600-7729-404e-a7c2-daaf7801eac6",
   "metadata": {},
   "outputs": [
    {
     "ename": "IndentationError",
     "evalue": "expected an indented block after 'for' statement on line 1 (3979827255.py, line 2)",
     "output_type": "error",
     "traceback": [
      "\u001b[1;36m  Cell \u001b[1;32mIn[23], line 2\u001b[1;36m\u001b[0m\n\u001b[1;33m    print(i)\u001b[0m\n\u001b[1;37m    ^\u001b[0m\n\u001b[1;31mIndentationError\u001b[0m\u001b[1;31m:\u001b[0m expected an indented block after 'for' statement on line 1\n"
     ]
    }
   ],
   "source": [
    "for i in range(10):\n",
    "print(i)"
   ]
  },
  {
   "cell_type": "markdown",
   "id": "ce1c7252-71ed-41e7-ad7b-ce3a438d7a46",
   "metadata": {},
   "source": [
    "10.Import Error \n",
    "Jab module nahi milta."
   ]
  },
  {
   "cell_type": "code",
   "execution_count": 25,
   "id": "fff5beb1-93a4-40df-87f5-28b8aa7876b2",
   "metadata": {},
   "outputs": [
    {
     "ename": "ModuleNotFoundError",
     "evalue": "No module named 'mathy'",
     "output_type": "error",
     "traceback": [
      "\u001b[1;31m---------------------------------------------------------------------------\u001b[0m",
      "\u001b[1;31mModuleNotFoundError\u001b[0m                       Traceback (most recent call last)",
      "Cell \u001b[1;32mIn[25], line 1\u001b[0m\n\u001b[1;32m----> 1\u001b[0m \u001b[38;5;28;01mimport\u001b[39;00m \u001b[38;5;21;01mmathy\u001b[39;00m\n",
      "\u001b[1;31mModuleNotFoundError\u001b[0m: No module named 'mathy'"
     ]
    }
   ],
   "source": [
    "import mathy"
   ]
  },
  {
   "cell_type": "markdown",
   "id": "037733f1-3c27-421e-a86d-d815caf34879",
   "metadata": {},
   "source": [
    "11.Value Error \n",
    "Jab sahi type par galat value use hoti hai."
   ]
  },
  {
   "cell_type": "code",
   "execution_count": 29,
   "id": "1b52304e-6121-4a0e-8f00-a9584dff2f0c",
   "metadata": {},
   "outputs": [
    {
     "ename": "ValueError",
     "evalue": "invalid literal for int() with base 10: '99.4'",
     "output_type": "error",
     "traceback": [
      "\u001b[1;31m---------------------------------------------------------------------------\u001b[0m",
      "\u001b[1;31mValueError\u001b[0m                                Traceback (most recent call last)",
      "Cell \u001b[1;32mIn[29], line 1\u001b[0m\n\u001b[1;32m----> 1\u001b[0m \u001b[38;5;28mprint\u001b[39m(\u001b[38;5;28;43mint\u001b[39;49m\u001b[43m(\u001b[49m\u001b[38;5;124;43m'\u001b[39;49m\u001b[38;5;124;43m99.4\u001b[39;49m\u001b[38;5;124;43m'\u001b[39;49m\u001b[43m)\u001b[49m)\n",
      "\u001b[1;31mValueError\u001b[0m: invalid literal for int() with base 10: '99.4'"
     ]
    }
   ],
   "source": [
    "print(int('99.4'))"
   ]
  },
  {
   "cell_type": "code",
   "execution_count": null,
   "id": "223469ff-2248-42d5-9551-6405f0fc815b",
   "metadata": {},
   "outputs": [],
   "source": []
  }
 ],
 "metadata": {
  "kernelspec": {
   "display_name": "Python 3 (ipykernel)",
   "language": "python",
   "name": "python3"
  },
  "language_info": {
   "codemirror_mode": {
    "name": "ipython",
    "version": 3
   },
   "file_extension": ".py",
   "mimetype": "text/x-python",
   "name": "python",
   "nbconvert_exporter": "python",
   "pygments_lexer": "ipython3",
   "version": "3.12.7"
  },
  "widgets": {
   "application/vnd.jupyter.widget-state+json": {
    "state": {},
    "version_major": 2,
    "version_minor": 0
   }
  }
 },
 "nbformat": 4,
 "nbformat_minor": 5
}

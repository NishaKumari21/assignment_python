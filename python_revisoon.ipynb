{
 "cells": [
  {
   "cell_type": "code",
   "execution_count": 13,
   "id": "6c0afc1a-4605-4ac4-babb-ba3701cc741d",
   "metadata": {},
   "outputs": [
    {
     "name": "stdin",
     "output_type": "stream",
     "text": [
      " 5\n"
     ]
    },
    {
     "name": "stdout",
     "output_type": "stream",
     "text": [
      "5 10 15 20 25 30 35 40 45 50\n"
     ]
    }
   ],
   "source": [
    "# revison of python (geeksforgeeks Question)\n",
    "def abc():\n",
    " n=int(input())\n",
    " print(' '.join(str(n*i) for i in range(1,11)))\n",
    "abc()\n"
   ]
  },
  {
   "cell_type": "markdown",
   "id": "7f383249-6b7f-4660-bc2c-9c4376733ee9",
   "metadata": {},
   "source": [
    "Forms of the range() Function\n",
    "The range() function can be used in three different ways:\n",
    "\n",
    "range(stop): Generates numbers from 0 up to stop minus 1.\n",
    "range(start, stop): Generates numbers from start up to stop minus 1.\n",
    "range(start, stop, step): Generates numbers from start up to stop minus 1, incrementing by step."
   ]
  },
  {
   "cell_type": "code",
   "execution_count": 19,
   "id": "80236516-789d-4672-8573-393432ec740d",
   "metadata": {},
   "outputs": [
    {
     "name": "stdout",
     "output_type": "stream",
     "text": [
      "0\n",
      "1\n",
      "2\n",
      "3\n",
      "4\n",
      "5\n",
      "6\n",
      "7\n",
      "8\n",
      "9\n"
     ]
    }
   ],
   "source": [
    "for i in range(10):\n",
    " print(i)"
   ]
  },
  {
   "cell_type": "code",
   "execution_count": 21,
   "id": "3d55a833-4b42-40c0-83a2-2c4cfb95ba43",
   "metadata": {},
   "outputs": [
    {
     "name": "stdout",
     "output_type": "stream",
     "text": [
      "0\n",
      "1\n",
      "2\n",
      "3\n",
      "4\n",
      "5\n",
      "6\n",
      "7\n",
      "8\n",
      "9\n",
      "10\n"
     ]
    }
   ],
   "source": [
    "for i in range(0,11):\n",
    "    print(i)"
   ]
  },
  {
   "cell_type": "code",
   "execution_count": 23,
   "id": "c6e2d070-6604-40f7-a744-9db374e1e53e",
   "metadata": {},
   "outputs": [
    {
     "name": "stdout",
     "output_type": "stream",
     "text": [
      "0\n",
      "2\n",
      "4\n",
      "6\n",
      "8\n",
      "10\n"
     ]
    }
   ],
   "source": [
    "for i in range(0,11,2):\n",
    "    print(i)"
   ]
  },
  {
   "cell_type": "markdown",
   "id": "22684fa2-a0fd-4f98-9380-efe56efb9ff6",
   "metadata": {},
   "source": [
    "Iterating Through Different Iterables\n",
    "You can use the for loop to iterate through various types of iterables in Python:\n",
    "\n",
    "List: A collection of items that can be of any type.\n",
    "Tuple: An immutable sequence of items.\n",
    "String: A sequence of characters.\n",
    "Set: A collection of distinct items.\n",
    "Range: A sequence of numbers."
   ]
  },
  {
   "cell_type": "code",
   "execution_count": 31,
   "id": "04e0a622-5ddd-406a-aa65-90b6e4d32774",
   "metadata": {},
   "outputs": [
    {
     "name": "stdout",
     "output_type": "stream",
     "text": [
      "2\n",
      "3\n",
      "4\n",
      "6\n",
      "7\n",
      "8\n"
     ]
    }
   ],
   "source": [
    "# List\n",
    "l=[2,3,4,6,7,8]\n",
    "for i in l:\n",
    " print(i)"
   ]
  },
  {
   "cell_type": "code",
   "execution_count": 35,
   "id": "43f85852-1255-43c4-a6a6-5db01b762dc4",
   "metadata": {},
   "outputs": [
    {
     "name": "stdout",
     "output_type": "stream",
     "text": [
      "3\n",
      "4\n",
      "6\n",
      "nisha\n",
      "anc\n"
     ]
    }
   ],
   "source": [
    "# Tuple\n",
    "tup=(3,4,6,\"nisha\",\"anc\")\n",
    "for i in tup:\n",
    "    print(i)"
   ]
  },
  {
   "cell_type": "code",
   "execution_count": 37,
   "id": "2505522d-b663-4f77-86be-0f8feb775f37",
   "metadata": {},
   "outputs": [
    {
     "name": "stdout",
     "output_type": "stream",
     "text": [
      "n\n",
      "i\n",
      "s\n",
      "h\n",
      "a\n"
     ]
    }
   ],
   "source": [
    "# String\n",
    "str=\"nisha\"\n",
    "for i in str:\n",
    "    print(i)"
   ]
  },
  {
   "cell_type": "code",
   "execution_count": 43,
   "id": "af52e88d-d209-4f94-b010-86c3a9fe81ac",
   "metadata": {},
   "outputs": [
    {
     "name": "stdout",
     "output_type": "stream",
     "text": [
      "2\n",
      "4\n",
      "5\n",
      "6\n",
      "12\n"
     ]
    }
   ],
   "source": [
    "# Set\n",
    "set={2,2,4,5,6,12,2,4}\n",
    "for i in set:\n",
    "    print(i)\n",
    "    # i=unique elements only"
   ]
  },
  {
   "cell_type": "code",
   "execution_count": 55,
   "id": "1cedfcf2-1f1c-4e84-a5fd-baaabd983dda",
   "metadata": {},
   "outputs": [
    {
     "name": "stdout",
     "output_type": "stream",
     "text": [
      "0\n",
      "2\n",
      "4\n",
      "6\n",
      "8\n",
      "10\n",
      "12\n",
      "14\n",
      "16\n",
      "18\n"
     ]
    }
   ],
   "source": [
    "# range:\n",
    "for i in range(20):\n",
    "    if i%2==0:\n",
    "        print(i)"
   ]
  },
  {
   "cell_type": "code",
   "execution_count": 71,
   "id": "bd407266-ac4b-4181-8836-94f581ab5d2a",
   "metadata": {},
   "outputs": [
    {
     "name": "stdin",
     "output_type": "stream",
     "text": [
      " 3\n"
     ]
    },
    {
     "name": "stdout",
     "output_type": "stream",
     "text": [
      "0\n",
      "1\n",
      "2\n",
      "4\n",
      "5\n",
      "6\n",
      "7\n",
      "8\n",
      "9\n"
     ]
    }
   ],
   "source": [
    "x=int(input())\n",
    "for i in range(10):\n",
    "    if i==x:\n",
    "        continue\n",
    "    print(i)\n",
    "       \n",
    "        "
   ]
  },
  {
   "cell_type": "code",
   "execution_count": 73,
   "id": "94d6a5a8-98af-4479-85e4-e13a2d3e8dde",
   "metadata": {},
   "outputs": [
    {
     "name": "stdin",
     "output_type": "stream",
     "text": [
      " 3\n"
     ]
    },
    {
     "name": "stdout",
     "output_type": "stream",
     "text": [
      "0\n",
      "1\n",
      "2\n"
     ]
    }
   ],
   "source": [
    "x=int(input())\n",
    "for i in range(10):\n",
    "    if i==x:\n",
    "        break\n",
    "    print(i)"
   ]
  },
  {
   "cell_type": "code",
   "execution_count": 75,
   "id": "8aa63fc0-f2dc-4df2-bfeb-0a3b517b3d58",
   "metadata": {},
   "outputs": [
    {
     "name": "stdout",
     "output_type": "stream",
     "text": [
      "4\n",
      "3\n",
      "2\n",
      "1\n",
      "0\n"
     ]
    }
   ],
   "source": [
    "X=5;\n",
    "while X>0:\n",
    "  X=X-1;\n",
    "  print(X)"
   ]
  },
  {
   "cell_type": "code",
   "execution_count": 77,
   "id": "929da7d9-3f4f-4dfd-a08c-41957bb27243",
   "metadata": {},
   "outputs": [
    {
     "name": "stdout",
     "output_type": "stream",
     "text": [
      "('baz', 3)\n",
      "('bar', 2)\n",
      "('foo', 1)\n",
      "Done.\n"
     ]
    }
   ],
   "source": [
    "d = {'foo': 1, 'bar': 2, 'baz': 3}\n",
    "while len(d) > 0:\n",
    "   print(d.popitem())\n",
    "print('Done.')"
   ]
  },
  {
   "cell_type": "code",
   "execution_count": 79,
   "id": "4f6e5e8e-dbdf-4197-93a6-0b879867f4cc",
   "metadata": {},
   "outputs": [
    {
     "name": "stdout",
     "output_type": "stream",
     "text": [
      "100\n"
     ]
    }
   ],
   "source": [
    "x = 0\n",
    "while (x < 100):\n",
    "   x+=2\n",
    "print(x)"
   ]
  },
  {
   "cell_type": "code",
   "execution_count": 81,
   "id": "988b38ef-07e7-443e-945e-4e3d4ee9cdd1",
   "metadata": {},
   "outputs": [
    {
     "ename": "SyntaxError",
     "evalue": "invalid character '’' (U+2019) (2161849131.py, line 1)",
     "output_type": "error",
     "traceback": [
      "\u001b[1;36m  Cell \u001b[1;32mIn[81], line 1\u001b[1;36m\u001b[0m\n\u001b[1;33m    x=’GFG’\u001b[0m\n\u001b[1;37m      ^\u001b[0m\n\u001b[1;31mSyntaxError\u001b[0m\u001b[1;31m:\u001b[0m invalid character '’' (U+2019)\n"
     ]
    }
   ],
   "source": [
    "x=’GFG’\n",
    "for i in range(x):\n",
    "  print(i)"
   ]
  },
  {
   "cell_type": "code",
   "execution_count": 83,
   "id": "0f6a9b5b-c358-492a-b033-7c84b7b7d104",
   "metadata": {},
   "outputs": [
    {
     "name": "stdout",
     "output_type": "stream",
     "text": [
      "0\n",
      "1\n",
      "2\n",
      "3\n"
     ]
    }
   ],
   "source": [
    "x = 'abcd'\n",
    "for i in range(len(x)):\n",
    "  print(i)"
   ]
  },
  {
   "cell_type": "code",
   "execution_count": 87,
   "id": "d5af5e35-db70-4f0e-af62-6cd5c3ab31be",
   "metadata": {},
   "outputs": [
    {
     "name": "stdout",
     "output_type": "stream",
     "text": [
      "hello\n"
     ]
    }
   ],
   "source": [
    "while True:\n",
    "    print(\"hello\")\n",
    "    break"
   ]
  },
  {
   "cell_type": "code",
   "execution_count": 89,
   "id": "ab19ebc5-d176-4ffa-a4e6-3f5a0f69c38b",
   "metadata": {},
   "outputs": [
    {
     "name": "stdout",
     "output_type": "stream",
     "text": [
      "1\n",
      "2\n",
      "3\n",
      "4\n",
      "5\n",
      "6\n"
     ]
    }
   ],
   "source": [
    "i = 1\n",
    "\n",
    "while True:\n",
    "  if i%7 == 0:\n",
    "    break\n",
    "  print(i)\n",
    "  i += 1"
   ]
  },
  {
   "cell_type": "code",
   "execution_count": 91,
   "id": "0ba89389-6969-4c6c-9dd4-061385a61de4",
   "metadata": {},
   "outputs": [
    {
     "name": "stdout",
     "output_type": "stream",
     "text": [
      "10 Chair\n",
      "10 Table\n",
      "20 Chair\n",
      "20 Table\n"
     ]
    }
   ],
   "source": [
    "numbers = [10, 20]\n",
    "items = [\"Chair\", \"Table\"]\n",
    "\n",
    "for x in numbers:\n",
    "  for y in items:\n",
    "    print(x, y)"
   ]
  },
  {
   "cell_type": "code",
   "execution_count": 93,
   "id": "2b6d01c4-e389-46f0-95da-1b84a111b68d",
   "metadata": {},
   "outputs": [
    {
     "name": "stdout",
     "output_type": "stream",
     "text": [
      "10\n"
     ]
    }
   ],
   "source": [
    "var=10\n",
    "for i in range(10):\n",
    "   for j in range(2,10,1):\n",
    "       if var%2==0:\n",
    "           continue\n",
    "           var+=1\n",
    "           var+=1\n",
    "       else:\n",
    "           var+=1\n",
    "print(var)"
   ]
  },
  {
   "cell_type": "code",
   "execution_count": 95,
   "id": "9ac536f0-b88b-4fb6-a677-4a445fb9a96b",
   "metadata": {},
   "outputs": [
    {
     "name": "stdout",
     "output_type": "stream",
     "text": [
      "10\n",
      "11\n",
      "12\n",
      "13\n"
     ]
    }
   ],
   "source": [
    "for num in range(10, 14):\n",
    "  for i in range(2, num):\n",
    "    if num%i == 1:\n",
    "      print(num)\n",
    "      break"
   ]
  },
  {
   "cell_type": "code",
   "execution_count": 97,
   "id": "685b2bf8-d90e-4ca1-921e-ee26c732799b",
   "metadata": {},
   "outputs": [
    {
     "name": "stdout",
     "output_type": "stream",
     "text": [
      "0\n",
      "1\n"
     ]
    }
   ],
   "source": [
    "for i in range(int(2.0)):\n",
    "        print(i)"
   ]
  },
  {
   "cell_type": "code",
   "execution_count": 99,
   "id": "58f13304-5850-48f2-9ab5-0f3879790b71",
   "metadata": {},
   "outputs": [
    {
     "name": "stdout",
     "output_type": "stream",
     "text": [
      "<class 'NoneType'>\n"
     ]
    }
   ],
   "source": [
    "def f(): pass\n",
    "print(type(f()))"
   ]
  },
  {
   "cell_type": "code",
   "execution_count": 101,
   "id": "da23a296-4531-4ca3-8853-a0483f2d6b06",
   "metadata": {},
   "outputs": [
    {
     "name": "stdout",
     "output_type": "stream",
     "text": [
      "0.5\n"
     ]
    }
   ],
   "source": [
    "print(1//2 + 1.0/2)"
   ]
  },
  {
   "cell_type": "code",
   "execution_count": 109,
   "id": "a95fbb10-7a04-4a5b-a4d3-36986c3f479d",
   "metadata": {},
   "outputs": [
    {
     "name": "stdout",
     "output_type": "stream",
     "text": [
      "4\n"
     ]
    }
   ],
   "source": [
    "print(9//2)\n",
    "\n"
   ]
  },
  {
   "cell_type": "code",
   "execution_count": 111,
   "id": "300b9b92-0bfb-48a4-9faa-867944c2de8a",
   "metadata": {},
   "outputs": [
    {
     "name": "stdout",
     "output_type": "stream",
     "text": [
      "5\n"
     ]
    }
   ],
   "source": [
    "print(5%20)"
   ]
  },
  {
   "cell_type": "code",
   "execution_count": 113,
   "id": "d7e6a407-0e5c-46f6-b857-6e4b2db2ec67",
   "metadata": {},
   "outputs": [
    {
     "name": "stdout",
     "output_type": "stream",
     "text": [
      "225\n"
     ]
    }
   ],
   "source": [
    "print((4+5)*5**(4-2));"
   ]
  },
  {
   "cell_type": "code",
   "execution_count": 115,
   "id": "b3434bb5-9c1f-4f45-99d2-90a13c51c6c4",
   "metadata": {},
   "outputs": [
    {
     "name": "stdout",
     "output_type": "stream",
     "text": [
      "False\n"
     ]
    }
   ],
   "source": [
    "str = \"GFG\"\n",
    "print(not (not(str and \"\")))"
   ]
  },
  {
   "cell_type": "code",
   "execution_count": 117,
   "id": "e0506b64-ba75-40e9-b1e8-30f8b4540b4a",
   "metadata": {},
   "outputs": [
    {
     "name": "stdout",
     "output_type": "stream",
     "text": [
      "0o27\n"
     ]
    }
   ],
   "source": [
    "print(oct(23))"
   ]
  },
  {
   "cell_type": "code",
   "execution_count": 119,
   "id": "aff185fb-5e46-41c0-a2f0-126f121d66f0",
   "metadata": {},
   "outputs": [
    {
     "name": "stdout",
     "output_type": "stream",
     "text": [
      "0o270o27\n"
     ]
    }
   ],
   "source": [
    "print(oct(23)+oct(23))"
   ]
  },
  {
   "cell_type": "code",
   "execution_count": 121,
   "id": "e2eb54d5-3884-4ba3-a274-3de5a2f777c9",
   "metadata": {},
   "outputs": [
    {
     "name": "stdout",
     "output_type": "stream",
     "text": [
      "2\n"
     ]
    }
   ],
   "source": [
    "print(~(~2))"
   ]
  },
  {
   "cell_type": "code",
   "execution_count": 125,
   "id": "33199342-508e-4fac-bd69-0369c799c7d1",
   "metadata": {},
   "outputs": [
    {
     "name": "stdout",
     "output_type": "stream",
     "text": [
      "zzz"
     ]
    }
   ],
   "source": [
    "def display(b, n):\n",
    "  while n > 0:\n",
    "    print(b,end=\"\")\n",
    "    n=n-1\n",
    "display('z',3)"
   ]
  },
  {
   "cell_type": "code",
   "execution_count": 129,
   "id": "f67f993a-5989-4755-8398-eac5fbec9d19",
   "metadata": {},
   "outputs": [],
   "source": [
    "x = 50\n",
    "def func():\n",
    "    global x\n",
    "    print('x is', x)\n",
    "    x = 2\n",
    "    print('Changed global x to', x)\n",
    "    func()\n",
    "    print('Value of x is', x)"
   ]
  },
  {
   "cell_type": "code",
   "execution_count": 131,
   "id": "104223cc-b547-417e-855c-121c5fb20877",
   "metadata": {},
   "outputs": [
    {
     "ename": "SyntaxError",
     "evalue": "invalid character '“' (U+201C) (1233472175.py, line 1)",
     "output_type": "error",
     "traceback": [
      "\u001b[1;36m  Cell \u001b[1;32mIn[131], line 1\u001b[1;36m\u001b[0m\n\u001b[1;33m    print(“a”+”bc”)\u001b[0m\n\u001b[1;37m          ^\u001b[0m\n\u001b[1;31mSyntaxError\u001b[0m\u001b[1;31m:\u001b[0m invalid character '“' (U+201C)\n"
     ]
    }
   ],
   "source": [
    "print(“a”+”bc”)"
   ]
  },
  {
   "cell_type": "code",
   "execution_count": 137,
   "id": "5d96c671-4861-4c2f-9239-11720aeca6f4",
   "metadata": {},
   "outputs": [
    {
     "ename": "TypeError",
     "evalue": "'str' object does not support item assignment",
     "output_type": "error",
     "traceback": [
      "\u001b[1;31m---------------------------------------------------------------------------\u001b[0m",
      "\u001b[1;31mTypeError\u001b[0m                                 Traceback (most recent call last)",
      "Cell \u001b[1;32mIn[137], line 2\u001b[0m\n\u001b[0;32m      1\u001b[0m example \u001b[38;5;241m=\u001b[39m \u001b[38;5;124m\"\u001b[39m\u001b[38;5;124m \u001b[39m\u001b[38;5;124m\"\u001b[39m\n\u001b[1;32m----> 2\u001b[0m \u001b[43mexample\u001b[49m\u001b[43m[\u001b[49m\u001b[38;5;241;43m3\u001b[39;49m\u001b[43m]\u001b[49m \u001b[38;5;241m=\u001b[39m \u001b[38;5;124m'\u001b[39m\u001b[38;5;124ms\u001b[39m\u001b[38;5;124m'\u001b[39m\n\u001b[0;32m      3\u001b[0m \u001b[38;5;28mprint\u001b[39m(example)\n",
      "\u001b[1;31mTypeError\u001b[0m: 'str' object does not support item assignment"
     ]
    }
   ],
   "source": [
    "example = \" \"\n",
    "example[3] = 's'\n",
    "print(example)"
   ]
  },
  {
   "cell_type": "code",
   "execution_count": 139,
   "id": "2ad41090-6f3c-4538-98fe-71f5861421d6",
   "metadata": {},
   "outputs": [
    {
     "data": {
      "text/plain": [
       "'s'"
      ]
     },
     "execution_count": 139,
     "metadata": {},
     "output_type": "execute_result"
    }
   ],
   "source": [
    "max(\"geeksforgeeks\")"
   ]
  },
  {
   "cell_type": "code",
   "execution_count": 141,
   "id": "9275b071-3cbc-4bb1-b846-2b8aab49680e",
   "metadata": {},
   "outputs": [
    {
     "name": "stdout",
     "output_type": "stream",
     "text": [
      "c\n"
     ]
    }
   ],
   "source": [
    "print(chr(ord('b')+1))"
   ]
  },
  {
   "cell_type": "code",
   "execution_count": 143,
   "id": "e62848d5-0599-42ef-adfc-f90b847dd208",
   "metadata": {},
   "outputs": [
    {
     "name": "stdout",
     "output_type": "stream",
     "text": [
      "4\n"
     ]
    }
   ],
   "source": [
    "print(\"geeksforgeeks\".count('e',1,13))"
   ]
  },
  {
   "cell_type": "code",
   "execution_count": 145,
   "id": "5530e068-430a-417c-b347-29ae07d0a846",
   "metadata": {},
   "outputs": [
    {
     "name": "stdout",
     "output_type": "stream",
     "text": [
      "forgeeks\n"
     ]
    }
   ],
   "source": [
    "print('geeksforgeeks'.lstrip('geeks'))"
   ]
  },
  {
   "cell_type": "code",
   "execution_count": 147,
   "id": "a9f26943-5380-49b8-a64f-37d5ee447413",
   "metadata": {},
   "outputs": [
    {
     "name": "stdout",
     "output_type": "stream",
     "text": [
      "geeksforgeeks\n"
     ]
    }
   ],
   "source": [
    "print('geeksforgeeks'.lstrip('for'))"
   ]
  },
  {
   "cell_type": "code",
   "execution_count": 149,
   "id": "4edb30b3-6459-4e4c-bc4b-4d7496feaac8",
   "metadata": {},
   "outputs": [
    {
     "name": "stdout",
     "output_type": "stream",
     "text": [
      "['g', 'ksforg', 'ks']\n"
     ]
    }
   ],
   "source": [
    "print('geeksforgeeks'.split('ee'))"
   ]
  },
  {
   "cell_type": "code",
   "execution_count": 151,
   "id": "ab6f7624-0e6c-47e9-ae7c-32b90a2d1ffc",
   "metadata": {},
   "outputs": [
    {
     "name": "stdout",
     "output_type": "stream",
     "text": [
      "['g', 'ksforgeeks']\n"
     ]
    }
   ],
   "source": [
    "print('geeksforgeeks'.split('ee',1))"
   ]
  },
  {
   "cell_type": "code",
   "execution_count": 157,
   "id": "7c1e6eaf-6428-4d1d-8477-19da367eede3",
   "metadata": {},
   "outputs": [
    {
     "name": "stdout",
     "output_type": "stream",
     "text": [
      "<class 'list'>\n"
     ]
    }
   ],
   "source": [
    "list=list()\n",
    "print(type((list)))"
   ]
  },
  {
   "cell_type": "code",
   "execution_count": 161,
   "id": "ec594174-f0f1-40c8-943b-78f028fd5f43",
   "metadata": {},
   "outputs": [
    {
     "name": "stdout",
     "output_type": "stream",
     "text": [
      "[0.0, 0.5, 1.0, 1.5]\n"
     ]
    }
   ],
   "source": [
    "list1=[0.5* x for x in range(0,4)]\n",
    "print(list1)"
   ]
  },
  {
   "cell_type": "code",
   "execution_count": 163,
   "id": "cabfa419-5247-49de-a5a0-af705502fcec",
   "metadata": {},
   "outputs": [
    {
     "name": "stdout",
     "output_type": "stream",
     "text": [
      "[('G', 1), ('E', 1), ('E', 1), ('K', 1), ('S', 1)]\n"
     ]
    }
   ],
   "source": [
    "my_string = \"geeks\"\n",
    "k = [(i.upper(), len(i)) for i in my_string]\n",
    "print(k)"
   ]
  },
  {
   "cell_type": "code",
   "execution_count": 165,
   "id": "f4419c17-1fe7-4b0b-8b12-59c3fe5d233d",
   "metadata": {},
   "outputs": [
    {
     "name": "stdout",
     "output_type": "stream",
     "text": [
      "['g', 'f', 'g']\n"
     ]
    }
   ],
   "source": [
    "print([i.lower() for i in \"GFG\"])"
   ]
  },
  {
   "cell_type": "code",
   "execution_count": 167,
   "id": "944241d4-c184-44ac-a042-30a1431c554a",
   "metadata": {},
   "outputs": [
    {
     "name": "stdout",
     "output_type": "stream",
     "text": [
      "[('geeks', 5), ('for', 3), ('geeks', 5)]\n"
     ]
    }
   ],
   "source": [
    "s=[\"GEEKS\", \"FOR\", \"GEEKS\"]\n",
    "k=[(w.lower(), len(w)) for w in s]\n",
    "print(k)"
   ]
  },
  {
   "cell_type": "code",
   "execution_count": 169,
   "id": "dfc002e4-bef9-45f4-8192-3ec812e003a2",
   "metadata": {},
   "outputs": [
    {
     "ename": "TypeError",
     "evalue": "'float' object is not iterable",
     "output_type": "error",
     "traceback": [
      "\u001b[1;31m---------------------------------------------------------------------------\u001b[0m",
      "\u001b[1;31mTypeError\u001b[0m                                 Traceback (most recent call last)",
      "Cell \u001b[1;32mIn[169], line 2\u001b[0m\n\u001b[0;32m      1\u001b[0m t\u001b[38;5;241m=\u001b[39m\u001b[38;5;241m32.00\u001b[39m\n\u001b[1;32m----> 2\u001b[0m [\u001b[38;5;28mround\u001b[39m((x\u001b[38;5;241m-\u001b[39m\u001b[38;5;241m32\u001b[39m)\u001b[38;5;241m*\u001b[39m\u001b[38;5;241m5\u001b[39m\u001b[38;5;241m/\u001b[39m\u001b[38;5;241m9\u001b[39m) \u001b[38;5;28;01mfor\u001b[39;00m x \u001b[38;5;129;01min\u001b[39;00m t]\n",
      "\u001b[1;31mTypeError\u001b[0m: 'float' object is not iterable"
     ]
    }
   ],
   "source": [
    "t=32.00\n",
    "[round((x-32)*5/9) for x in t]"
   ]
  },
  {
   "cell_type": "code",
   "execution_count": 171,
   "id": "a1a29ce7-3bef-49fd-bd01-0aff7b38e10d",
   "metadata": {},
   "outputs": [
    {
     "name": "stdout",
     "output_type": "stream",
     "text": [
      "12\n"
     ]
    }
   ],
   "source": [
    "a=(2,3,4)\n",
    "print(sum(a,3))"
   ]
  },
  {
   "cell_type": "code",
   "execution_count": 173,
   "id": "b3d532c6-f6f8-4d8e-941d-dcdf18e91004",
   "metadata": {},
   "outputs": [
    {
     "ename": "ValueError",
     "evalue": "too many values to unpack (expected 2)",
     "output_type": "error",
     "traceback": [
      "\u001b[1;31m---------------------------------------------------------------------------\u001b[0m",
      "\u001b[1;31mValueError\u001b[0m                                Traceback (most recent call last)",
      "Cell \u001b[1;32mIn[173], line 1\u001b[0m\n\u001b[1;32m----> 1\u001b[0m a,b\u001b[38;5;241m=\u001b[39m\u001b[38;5;241m1\u001b[39m,\u001b[38;5;241m2\u001b[39m,\u001b[38;5;241m3\u001b[39m\n",
      "\u001b[1;31mValueError\u001b[0m: too many values to unpack (expected 2)"
     ]
    }
   ],
   "source": [
    "a,b=1,2,3"
   ]
  },
  {
   "cell_type": "code",
   "execution_count": 175,
   "id": "b9f76c99-a7b2-4683-a639-1de081521abc",
   "metadata": {},
   "outputs": [
    {
     "name": "stdout",
     "output_type": "stream",
     "text": [
      "{4, 5}\n"
     ]
    }
   ],
   "source": [
    "a={4,5,6}\n",
    "b={2,8,6}\n",
    "print(a-b)"
   ]
  },
  {
   "cell_type": "code",
   "execution_count": 177,
   "id": "f3eea0f3-aca1-4df1-9d06-5e6bc80a84bc",
   "metadata": {},
   "outputs": [
    {
     "ename": "TypeError",
     "evalue": "'set' object is not callable",
     "output_type": "error",
     "traceback": [
      "\u001b[1;31m---------------------------------------------------------------------------\u001b[0m",
      "\u001b[1;31mTypeError\u001b[0m                                 Traceback (most recent call last)",
      "Cell \u001b[1;32mIn[177], line 1\u001b[0m\n\u001b[1;32m----> 1\u001b[0m s\u001b[38;5;241m=\u001b[39m\u001b[38;5;28;43mset\u001b[39;49m\u001b[43m(\u001b[49m\u001b[43m)\u001b[49m\n\u001b[0;32m      2\u001b[0m \u001b[38;5;28mprint\u001b[39m (\u001b[38;5;28mtype\u001b[39m(s))\n",
      "\u001b[1;31mTypeError\u001b[0m: 'set' object is not callable"
     ]
    }
   ],
   "source": [
    "s=set()\n",
    "print (type(s))"
   ]
  },
  {
   "cell_type": "code",
   "execution_count": null,
   "id": "2662717b-2ed2-476d-8fc2-ff93ec420c6a",
   "metadata": {},
   "outputs": [],
   "source": []
  }
 ],
 "metadata": {
  "kernelspec": {
   "display_name": "Python 3 (ipykernel)",
   "language": "python",
   "name": "python3"
  },
  "language_info": {
   "codemirror_mode": {
    "name": "ipython",
    "version": 3
   },
   "file_extension": ".py",
   "mimetype": "text/x-python",
   "name": "python",
   "nbconvert_exporter": "python",
   "pygments_lexer": "ipython3",
   "version": "3.12.7"
  },
  "widgets": {
   "application/vnd.jupyter.widget-state+json": {
    "state": {},
    "version_major": 2,
    "version_minor": 0
   }
  }
 },
 "nbformat": 4,
 "nbformat_minor": 5
}

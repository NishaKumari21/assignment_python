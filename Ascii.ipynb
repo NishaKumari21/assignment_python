{
 "cells": [
  {
   "cell_type": "code",
   "execution_count": null,
   "id": "fd3d7afb-e065-43ce-9484-b44b8495f99b",
   "metadata": {},
   "outputs": [],
   "source": [
    "# linkedlist is a type of linear data structure which doesnt store the contigous memory and cannot be acccessed through the index value ."
   ]
  },
  {
   "cell_type": "code",
   "execution_count": 1,
   "id": "727c998d-5e3c-418f-9417-4205f85f5ee9",
   "metadata": {},
   "outputs": [
    {
     "name": "stdout",
     "output_type": "stream",
     "text": [
      "30 -> 20 -> 10 -> None\n"
     ]
    }
   ],
   "source": [
    "# Insertion of a node in Linked List Front\n",
    "class Node:\n",
    "    def __init__(self, data):\n",
    "        self.data = data\n",
    "        self.next = None\n",
    "\n",
    "class LinkedList:\n",
    "    def __init__(self):\n",
    "        self.head = None\n",
    "\n",
    "    def insert_at_front(self, new_data):\n",
    "        new_node = Node(new_data)  # Create a new node\n",
    "        new_node.next = self.head  # Point new node to the current head\n",
    "        self.head = new_node  # Update head to the new node\n",
    "\n",
    "    def display(self):\n",
    "        temp = self.head\n",
    "        while temp:\n",
    "            print(temp.data, end=\" -> \")\n",
    "            temp = temp.next\n",
    "        print(\"None\")\n",
    "\n",
    "# Example Usage\n",
    "llist = LinkedList()\n",
    "llist.insert_at_front(10)\n",
    "llist.insert_at_front(20)\n",
    "llist.insert_at_front(30)\n",
    "llist.display()  \n",
    " # O(1) time complexity\n"
   ]
  },
  {
   "cell_type": "markdown",
   "id": "5da21fea-5c48-4558-b677-1508813fed0a",
   "metadata": {},
   "source": [
    "# Function"
   ]
  },
  {
   "cell_type": "code",
   "execution_count": 17,
   "id": "d53649f8-ba56-41f3-878d-46aaa54c7f34",
   "metadata": {},
   "outputs": [
    {
     "name": "stdin",
     "output_type": "stream",
     "text": [
      " 2\n"
     ]
    },
    {
     "name": "stdout",
     "output_type": "stream",
     "text": [
      "4\n"
     ]
    }
   ],
   "source": [
    "def abc(n):\n",
    "    return n*n\n",
    "n=int(input())\n",
    "print(abc(n))"
   ]
  },
  {
   "cell_type": "code",
   "execution_count": 21,
   "id": "f9fcf833-199c-4b95-8345-c40a64cd7027",
   "metadata": {},
   "outputs": [
    {
     "name": "stdin",
     "output_type": "stream",
     "text": [
      " 456\n"
     ]
    },
    {
     "data": {
      "text/plain": [
       "4"
      ]
     },
     "execution_count": 21,
     "metadata": {},
     "output_type": "execute_result"
    }
   ],
   "source": [
    "def firstDigit(n):\n",
    "    a=n//100\n",
    "    return a\n",
    "n=int(input())\n",
    "firstDigit(n)"
   ]
  },
  {
   "cell_type": "code",
   "execution_count": 25,
   "id": "c1b22e28-0a41-413f-ab1c-828079a81fad",
   "metadata": {},
   "outputs": [
    {
     "name": "stdin",
     "output_type": "stream",
     "text": [
      " 2\n",
      " 3\n"
     ]
    },
    {
     "data": {
      "text/plain": [
       "5"
      ]
     },
     "execution_count": 25,
     "metadata": {},
     "output_type": "execute_result"
    }
   ],
   "source": [
    "def add(a,b):\n",
    "    return a+b\n",
    "a=int(input())\n",
    "b=int(input())\n",
    "add(a,b)"
   ]
  },
  {
   "cell_type": "code",
   "execution_count": 31,
   "id": "dc5b9a9f-e57e-4680-a4d4-e763371c75f3",
   "metadata": {},
   "outputs": [
    {
     "name": "stdout",
     "output_type": "stream",
     "text": [
      "Hello\n"
     ]
    }
   ],
   "source": [
    "def hello():\n",
    "    print(\"Hello\")\n",
    "a=input()\n",
    "hello()"
   ]
  },
  {
   "cell_type": "code",
   "execution_count": 35,
   "id": "dba914ef-eef8-4979-b7bf-c146a5802fcc",
   "metadata": {},
   "outputs": [],
   "source": [
    "def solve():\n",
    "    n = int(input().strip())\n",
    "    factors = []\n",
    "    i = 2\n",
    "    while n > 1:\n",
    "        if n % i == 0:\n",
    "            factors.append(i)\n",
    "            n //= i\n",
    "        else:\n",
    "            i += 1\n",
    "    print(\" \".join(map(str, factors)))\n"
   ]
  },
  {
   "cell_type": "code",
   "execution_count": null,
   "id": "fb487322-3a2a-4485-a8cf-cd841e2fecb9",
   "metadata": {},
   "outputs": [],
   "source": [
    "# ASCII, which stands for American Standard Code for Information Interchange, is a standard used to represent characters in computers and other devices. Each character is assigned a unique numeric code within the ASCII range. In Python, you have built-in functions and methods that allow you to interact with these ASCII codes, making it easy to perform operations involving characters and their corresponding numeric representations"
   ]
  },
  {
   "cell_type": "markdown",
   "id": "7054bbcd-92c5-4234-9940-6b3efdfc0964",
   "metadata": {},
   "source": [
    "# 1. Character to ASCII Code\n",
    "\n",
    " You can use the ord() function to get the ASCII code of a character."
   ]
  },
  {
   "cell_type": "code",
   "execution_count": 46,
   "id": "34a29632-9131-4bb2-9503-11a5912ae9ca",
   "metadata": {},
   "outputs": [
    {
     "name": "stdout",
     "output_type": "stream",
     "text": [
      "110\n"
     ]
    }
   ],
   "source": [
    "char=\"n\"\n",
    "a=ord(char)\n",
    "print(a)"
   ]
  },
  {
   "cell_type": "markdown",
   "id": "ab42c988-e0fa-49da-a3c2-021caa08da7b",
   "metadata": {},
   "source": [
    "# 2. ASCII Code to Character\n",
    "\n",
    "Conversely, the chr() function converts an ASCII code to its corresponding character."
   ]
  },
  {
   "cell_type": "code",
   "execution_count": 49,
   "id": "b9ce0f29-e094-432b-a43f-47c021db6126",
   "metadata": {},
   "outputs": [
    {
     "name": "stdout",
     "output_type": "stream",
     "text": [
      "D\n"
     ]
    }
   ],
   "source": [
    "asci=68\n",
    "a=chr(asci)\n",
    "print(a)"
   ]
  },
  {
   "cell_type": "markdown",
   "id": "b34d95f1-e72a-4583-861f-bed105b84602",
   "metadata": {},
   "source": [
    "# 1. Iterating Through Characters:"
   ]
  },
  {
   "cell_type": "code",
   "execution_count": 56,
   "id": "62a8cee5-3817-4685-b2d8-242fba88966d",
   "metadata": {},
   "outputs": [
    {
     "name": "stdout",
     "output_type": "stream",
     "text": [
      "the ascii of n is: 110\n",
      "the ascii of i is: 105\n",
      "the ascii of s is: 115\n",
      "the ascii of h is: 104\n",
      "the ascii of a is: 97\n"
     ]
    }
   ],
   "source": [
    "a=\"nisha\"\n",
    "for i in a:\n",
    "    print(f\"the ascii of {i} is:\",ord(i))"
   ]
  },
  {
   "cell_type": "markdown",
   "id": "c64e6f75-3761-4e79-b7c5-2c52dd725b36",
   "metadata": {},
   "source": [
    "# 2. Converting String to ASCII Codes:"
   ]
  },
  {
   "cell_type": "code",
   "execution_count": 65,
   "id": "ee35df6b-edd8-4810-a1ac-a702dbc0a574",
   "metadata": {},
   "outputs": [
    {
     "name": "stdout",
     "output_type": "stream",
     "text": [
      "ASCII codes of characters in 'Nisha': [78, 105, 115, 104, 97]\n"
     ]
    }
   ],
   "source": [
    "text = \"Nisha\"\n",
    "\n",
    "ascii_list = [ord(char) for char in text]\n",
    "# here using list comprehensive jisme haar char ko iterate kro or uske bd ord(char) mtlb convert kro ascii mei\n",
    "print(f\"ASCII codes of characters in '{text}': {ascii_list}\")"
   ]
  },
  {
   "cell_type": "code",
   "execution_count": 89,
   "id": "58dac103-a628-46e8-bf3d-05b211c07f72",
   "metadata": {},
   "outputs": [
    {
     "name": "stdout",
     "output_type": "stream",
     "text": [
      "encryptionnisha:[78, 105, 115, 104, 97]\n"
     ]
    }
   ],
   "source": [
    "d_msg=\"nisha\"\n",
    "d_list=[ord(d_msg) for d_msg in text]\n",
    "# a=ord(decrept_msg)\n",
    "print(f\"encryption{d_msg}:{d_list}\"\n",
    "     )"
   ]
  },
  {
   "cell_type": "markdown",
   "id": "4918b955-13e0-43d4-b1c5-922003ee7f4b",
   "metadata": {},
   "source": [
    "# Random password generator"
   ]
  },
  {
   "cell_type": "code",
   "execution_count": 120,
   "id": "924d6b95-b58c-4e03-b64c-7f7b9c6fa2c2",
   "metadata": {},
   "outputs": [
    {
     "name": "stdout",
     "output_type": "stream",
     "text": [
      "Encrypted Message: Kh|#qlvkdddd\n",
      "Decrypted Message: Hey nishaaaa\n"
     ]
    }
   ],
   "source": [
    "def encrypt(message, shift):\n",
    "    return ''.join(chr(ord(char)+ shift ) for char in message)\n",
    "# jitna ascii value h usme add krodo 5\n",
    "def decrypt(encrypted_message, shift):\n",
    "    return ''.join(chr(ord(char)- shift ) for char in encrypted_message)\n",
    "# idhr minus krdo\n",
    "encrypted = encrypt(\"Hey nishaaaa\",3)\n",
    "print(\"Encrypted Message:\", encrypted)\n",
    "\n",
    "decrypted = decrypt(encrypted,3)\n",
    "print(\"Decrypted Message:\", decrypted)\n",
    "# Working\n",
    "# M' (ASCII: 77) → 77 - 5 = 72 → 'H'\n",
    "# 'j' (ASCII: 106) → 106 - 5 = 101 → 'e'\n",
    "# '~' (ASCII: 126) → 126 - 5 = 121 → 'y"
   ]
  },
  {
   "cell_type": "code",
   "execution_count": null,
   "id": "e7499ce8-d36c-42cc-80f1-5a5fe612e6bf",
   "metadata": {},
   "outputs": [],
   "source": []
  }
 ],
 "metadata": {
  "kernelspec": {
   "display_name": "Python 3 (ipykernel)",
   "language": "python",
   "name": "python3"
  },
  "language_info": {
   "codemirror_mode": {
    "name": "ipython",
    "version": 3
   },
   "file_extension": ".py",
   "mimetype": "text/x-python",
   "name": "python",
   "nbconvert_exporter": "python",
   "pygments_lexer": "ipython3",
   "version": "3.12.7"
  },
  "widgets": {
   "application/vnd.jupyter.widget-state+json": {
    "state": {},
    "version_major": 2,
    "version_minor": 0
   }
  }
 },
 "nbformat": 4,
 "nbformat_minor": 5
}

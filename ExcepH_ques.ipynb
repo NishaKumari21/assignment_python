{
 "cells": [
  {
   "cell_type": "code",
   "execution_count": null,
   "id": "ff591f5d-6189-4fa9-ab50-1e455f95f4d8",
   "metadata": {},
   "outputs": [],
   "source": [
    "Input: a = 5, b = -5\n",
    "Output: -25\n",
    "Explanation:\n",
    "The results of the operations are:\n",
    "5+(−5)=0\n",
    "5−(−5)=10\n",
    "5×(−5)=−25\n",
    "5/(−5)=−1\n",
    "The minimum value is -25."
   ]
  },
  {
   "cell_type": "code",
   "execution_count": 3,
   "id": "6c95ee1f-b2f3-4fd8-b40e-f338caf520af",
   "metadata": {},
   "outputs": [
    {
     "name": "stdin",
     "output_type": "stream",
     "text": [
      " 5\n",
      " -5\n"
     ]
    },
    {
     "name": "stdout",
     "output_type": "stream",
     "text": [
      "The minimum value is  -25\n"
     ]
    }
   ],
   "source": [
    "def find_minimum(a, b):\n",
    "    add=a+b\n",
    "    sub=a-b\n",
    "    mul=a*b\n",
    "    div=a/b\n",
    "    smallest=min(add,sub,mul,div)\n",
    "    print(\"The minimum value is \",smallest)\n",
    "\n",
    "    \n",
    "a=int(input())\n",
    "b=int(input())\n",
    "find_minimum(a,b)"
   ]
  },
  {
   "cell_type": "code",
   "execution_count": null,
   "id": "d48c855f-36b0-4bfc-b5fe-85736cd6adaa",
   "metadata": {},
   "outputs": [],
   "source": [
    "Input: a = 5, b = 0\n",
    "Output: 0\n",
    "Explanation:\n",
    "The results of the operations are:\n",
    "5+0=5\n",
    "5−0=5\n",
    "5×0=0\n",
    "5/0 raises a \"Division by zero\" exception.\n",
    "Thus, the minimum value among valid operations is 0.\n"
   ]
  },
  {
   "cell_type": "code",
   "execution_count": null,
   "id": "da956ef2-c1e5-46f2-b343-4bd164ff1afc",
   "metadata": {},
   "outputs": [],
   "source": [
    "try:\n",
    "def find_minimum(a, b):\n",
    "    add=a+b\n",
    "    sub=a-b\n",
    "    mul=a*b\n",
    "    div=a/b\n",
    "    smallest=min(add,sub,mul,div)\n",
    "    print(\"The minimum value is \",smallest)   \n",
    "a=int(input())\n",
    "b=int(input())\n",
    "find_minimum(a,b)\n",
    "except Division by zero:\n",
    "    print(5/0 raises a \"Division by zero\" exception"
   ]
  },
  {
   "cell_type": "code",
   "execution_count": 5,
   "id": "390b3292-5078-4378-b94d-86c7d908f30a",
   "metadata": {},
   "outputs": [
    {
     "name": "stdout",
     "output_type": "stream",
     "text": [
      "0\n"
     ]
    }
   ],
   "source": [
    "def find_minimum(a, b):\n",
    "    results = [a + b, a - b, a * b]\n",
    "    try:\n",
    "        results.append(a / b)\n",
    "    except ZeroDivisionError:\n",
    "        pass \n",
    "    \n",
    "    return min(results)\n",
    "\n",
    "a = int(input())\n",
    "b = int(input())\n",
    "print(find_minimum(a, b))\n"
   ]
  },
  {
   "cell_type": "code",
   "execution_count": null,
   "id": "af15c1bf-efce-4037-9e33-9a5fe4df8cbd",
   "metadata": {},
   "outputs": [],
   "source": []
  }
 ],
 "metadata": {
  "kernelspec": {
   "display_name": "Python 3 (ipykernel)",
   "language": "python",
   "name": "python3"
  },
  "language_info": {
   "codemirror_mode": {
    "name": "ipython",
    "version": 3
   },
   "file_extension": ".py",
   "mimetype": "text/x-python",
   "name": "python",
   "nbconvert_exporter": "python",
   "pygments_lexer": "ipython3",
   "version": "3.12.7"
  },
  "widgets": {
   "application/vnd.jupyter.widget-state+json": {
    "state": {},
    "version_major": 2,
    "version_minor": 0
   }
  }
 },
 "nbformat": 4,
 "nbformat_minor": 5
}

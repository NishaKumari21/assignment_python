{
 "cells": [
  {
   "cell_type": "markdown",
   "id": "fc31b51d-1a28-4647-a142-8f319f1eeed2",
   "metadata": {},
   "source": [
    "# exception handling is done to handle the errors gracefully in the code.\n",
    " Exception kya hota hai?\n",
    "Exception = Program run karte time error aana (jaise division by zero, invalid input, etc.).\n",
    "Python raise karta hai exceptions jab kuch galat hota hai, aur try-except se hum unhe handle karte hain."
   ]
  },
  {
   "cell_type": "markdown",
   "id": "a85cf66c-3bfd-4cee-91c7-1858096b88a3",
   "metadata": {},
   "source": [
    "try block: Error aane wle code ko  likhte hain.\n",
    "except block: Jab error hota hai, yeh block execute hota hai.\n"
   ]
  },
  {
   "cell_type": "code",
   "execution_count": 7,
   "id": "47f6991e-f99c-49f4-8aa7-a0180c701608",
   "metadata": {},
   "outputs": [
    {
     "name": "stdin",
     "output_type": "stream",
     "text": [
      " 3.4\n"
     ]
    },
    {
     "name": "stdout",
     "output_type": "stream",
     "text": [
      "error\n"
     ]
    }
   ],
   "source": [
    "try:\n",
    "    num=int(input())\n",
    "    print(num)\n",
    "except ValueError:\n",
    "    print(\"error\")\n",
    "    "
   ]
  },
  {
   "cell_type": "code",
   "execution_count": 13,
   "id": "19835f0c-ca0f-4128-addb-e8f97acb5261",
   "metadata": {},
   "outputs": [
    {
     "name": "stdin",
     "output_type": "stream",
     "text": [
      "Enter a number:  0\n"
     ]
    },
    {
     "name": "stdout",
     "output_type": "stream",
     "text": [
      "Cannot divide by zero!\n"
     ]
    }
   ],
   "source": [
    "try:\n",
    "    number = int(input(\"Enter a number: \"))\n",
    "    result = 10 / number\n",
    "except ValueError:\n",
    "    print(\"Invalid number!\")\n",
    "except ZeroDivisionError:\n",
    "    print(\"Cannot divide by zero!\")"
   ]
  },
  {
   "cell_type": "markdown",
   "id": "8da6bcec-04c5-4974-bc2f-2b65774b79df",
   "metadata": {},
   "source": [
    "Else Block\n",
    "Jab try block mein koi error na ho, toh else block run hota hai."
   ]
  },
  {
   "cell_type": "code",
   "execution_count": null,
   "id": "2b495e35-a10a-4f39-af33-7dc698edc69b",
   "metadata": {},
   "outputs": [],
   "source": [
    "\n",
    "try:\n",
    "    number = int(input(\"Enter a number: \"))\n",
    "    result = 10 / number\n",
    "except ValueError:\n",
    "    print(\"Invalid number!\")\n",
    "except ZeroDivisionError:\n",
    "    print(\"Cannot divide by zero!\")\n",
    "else:\n",
    "    print(f\"Result is {result}\")"
   ]
  },
  {
   "cell_type": "markdown",
   "id": "d533e88c-b434-4885-8665-31f2adc3b193",
   "metadata": {},
   "source": [
    "finally block hamesha execute hota hai — error ho ya na ho."
   ]
  },
  {
   "cell_type": "code",
   "execution_count": 17,
   "id": "9cea5b99-8ea2-40a6-aba7-37fd5d1c5eb0",
   "metadata": {},
   "outputs": [
    {
     "name": "stdin",
     "output_type": "stream",
     "text": [
      " 10\n"
     ]
    },
    {
     "name": "stdout",
     "output_type": "stream",
     "text": [
      "result1.0\n",
      "code exceuted always!\n"
     ]
    }
   ],
   "source": [
    "try:\n",
    "    num=int(input())\n",
    "    result=10/num\n",
    "except ValueError:\n",
    "    print(\"invalid\")\n",
    "except ZeroDivisionError:\n",
    "    print(\"not possible\")\n",
    "else:\n",
    "    print(f\"result{result}\")\n",
    "finally:\n",
    "    print(\"code exceuted always!\")"
   ]
  },
  {
   "cell_type": "code",
   "execution_count": null,
   "id": "8f11bc14-a6db-4959-b204-c3a245313f2a",
   "metadata": {},
   "outputs": [],
   "source": []
  },
  {
   "cell_type": "code",
   "execution_count": null,
   "id": "6d5ef7f4-6fa5-486f-9855-b65cf26e55a2",
   "metadata": {},
   "outputs": [],
   "source": []
  }
 ],
 "metadata": {
  "kernelspec": {
   "display_name": "Python 3 (ipykernel)",
   "language": "python",
   "name": "python3"
  },
  "language_info": {
   "codemirror_mode": {
    "name": "ipython",
    "version": 3
   },
   "file_extension": ".py",
   "mimetype": "text/x-python",
   "name": "python",
   "nbconvert_exporter": "python",
   "pygments_lexer": "ipython3",
   "version": "3.12.7"
  },
  "widgets": {
   "application/vnd.jupyter.widget-state+json": {
    "state": {},
    "version_major": 2,
    "version_minor": 0
   }
  }
 },
 "nbformat": 4,
 "nbformat_minor": 5
}

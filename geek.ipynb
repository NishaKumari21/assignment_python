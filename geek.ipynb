{
 "cells": [
  {
   "cell_type": "code",
   "execution_count": 4,
   "id": "af61091e-9be3-4b0b-969b-19f65a81b602",
   "metadata": {},
   "outputs": [
    {
     "name": "stdin",
     "output_type": "stream",
     "text": [
      " 6\n",
      " 5\n"
     ]
    },
    {
     "name": "stdout",
     "output_type": "stream",
     "text": [
      "5\n",
      "6\n"
     ]
    }
   ],
   "source": [
    "a=int(input())\n",
    "b=int(input())\n",
    "a,b=b,a\n",
    "print(a)\n",
    "print(b)"
   ]
  },
  {
   "cell_type": "code",
   "execution_count": 12,
   "id": "9eb09ecf-ebcc-4fe1-8b31-fddfd5255503",
   "metadata": {},
   "outputs": [
    {
     "name": "stdin",
     "output_type": "stream",
     "text": [
      " 1 2 2 3 4\n"
     ]
    },
    {
     "name": "stdout",
     "output_type": "stream",
     "text": [
      "(1, 2, 3, 4)\n"
     ]
    }
   ],
   "source": [
    "arr = tuple(map(int, input().split()))\n",
    "s=set(arr)\n",
    "s\n",
    "print(tuple(s))\n"
   ]
  },
  {
   "cell_type": "code",
   "execution_count": 42,
   "id": "f5c95075-2e24-4c09-bb07-1dea227588ca",
   "metadata": {},
   "outputs": [
    {
     "name": "stdin",
     "output_type": "stream",
     "text": [
      " 1 2 3 4 5 4\n"
     ]
    },
    {
     "name": "stdout",
     "output_type": "stream",
     "text": [
      "True\n"
     ]
    }
   ],
   "source": [
    "arr=tuple(map(int,input().split()))\n",
    "for i in arr:\n",
    "    if arr.count(i)==1:\n",
    "        print(\"True\")\n",
    "        break;\n",
    "    else:\n",
    "        print(\"False\")\n",
    "          "
   ]
  },
  {
   "cell_type": "code",
   "execution_count": 32,
   "id": "514eaa6f-9086-43b5-9892-a840ba341817",
   "metadata": {},
   "outputs": [
    {
     "name": "stdin",
     "output_type": "stream",
     "text": [
      " 1 2 3 4 5 4\n"
     ]
    },
    {
     "name": "stdout",
     "output_type": "stream",
     "text": [
      "True\n"
     ]
    }
   ],
   "source": [
    "arr = tuple(map(int, input().split()))\n",
    "\n",
    "# Using a set to avoid duplicate checks\n",
    "printed = False\n",
    "\n",
    "for i in set(arr):  # Iterate through unique elements only\n",
    "    if arr.count(i) == 1:\n",
    "        print(\"True\")\n",
    "        printed = True\n",
    "        break  # Exit loop once we find a unique element\n",
    "\n",
    "if not printed:\n",
    "    print(\"False\")\n"
   ]
  },
  {
   "cell_type": "code",
   "execution_count": 48,
   "id": "6347b5ee-bd78-43c3-8bbe-a91eb0fa9645",
   "metadata": {},
   "outputs": [
    {
     "name": "stdin",
     "output_type": "stream",
     "text": [
      " 1 2 3 4 2\n"
     ]
    },
    {
     "name": "stdout",
     "output_type": "stream",
     "text": [
      "True\n"
     ]
    }
   ],
   "source": [
    "arr = tuple(map(int, input().split()))\n",
    "\n",
    "# Check if there is any unique element in the tuple\n",
    "has_unique = any(arr.count(i) == 1 for i in arr)\n",
    "\n",
    "# Print result only once\n",
    "print(\"True\" if has_unique else \"False\")\n"
   ]
  },
  {
   "cell_type": "code",
   "execution_count": 56,
   "id": "fde3b582-118d-4a60-bed1-c291456019e1",
   "metadata": {},
   "outputs": [
    {
     "name": "stdin",
     "output_type": "stream",
     "text": [
      " 1 2 3 4 2\n"
     ]
    },
    {
     "name": "stdout",
     "output_type": "stream",
     "text": [
      "False\n"
     ]
    }
   ],
   "source": [
    "arr = tuple(map(int, input().split()))\n",
    "has_unique=any(arr.count(i)==1 for i in arr)\n",
    "print(\"False\" if has_unique else \"True\")"
   ]
  },
  {
   "cell_type": "code",
   "execution_count": 58,
   "id": "8caabb96-9bc5-4c88-9f53-6a583f1d496e",
   "metadata": {},
   "outputs": [
    {
     "name": "stdin",
     "output_type": "stream",
     "text": [
      " 1 2 3 4 3\n"
     ]
    },
    {
     "name": "stdout",
     "output_type": "stream",
     "text": [
      "False\n"
     ]
    }
   ],
   "source": [
    "arr = tuple(map(int, input().split()))\n",
    "\n",
    "if len(arr) == len(set(arr)):  # Check if all elements are unique\n",
    "    print(\"True\")\n",
    "else:\n",
    "    print(\"False\")\n"
   ]
  },
  {
   "cell_type": "code",
   "execution_count": 68,
   "id": "3d19a59c-90c8-4c68-b83a-6907f62ab875",
   "metadata": {},
   "outputs": [
    {
     "name": "stdin",
     "output_type": "stream",
     "text": [
      " 1 2 3 4\n",
      " 2\n"
     ]
    },
    {
     "name": "stdout",
     "output_type": "stream",
     "text": [
      "3\n",
      "1\n"
     ]
    }
   ],
   "source": [
    "\n",
    "arr = tuple(map(int, input().split()))\n",
    "x = int(input())\n",
    "print(arr.index(x))"
   ]
  },
  {
   "cell_type": "code",
   "execution_count": 76,
   "id": "bcae01ae-8e89-45de-96eb-0eb5ebe22c88",
   "metadata": {},
   "outputs": [
    {
     "name": "stdin",
     "output_type": "stream",
     "text": [
      " 1 2 3 4\n",
      " 2\n",
      " 3\n"
     ]
    },
    {
     "name": "stdout",
     "output_type": "stream",
     "text": [
      "1 2 3 4 \n",
      "1 2 4 \n",
      "7\n"
     ]
    }
   ],
   "source": [
    "\n",
    "st = {int(x) for x in input().split()}\n",
    "i = int(input())\n",
    "r = int(input())\n",
    "\n",
    "########### Write your code below ###############\n",
    "# Insert i in set\n",
    "st.add(i)\n",
    "########### Write your code above ###############\n",
    "\n",
    "# Printing the set\n",
    "for i in sorted(st):\n",
    "    print (i, end=' ')\n",
    "print()\n",
    "\n",
    "########### Write your code below ###############\n",
    "# Remove r from set\n",
    "st.discard(r)\n",
    "########### Write your code above ###############\n",
    "\n",
    "# Printing the set\n",
    "for i in sorted(st):\n",
    "    print (i, end=' ')\n",
    "print()\n",
    "\n",
    "########### Write your code below ###############\n",
    " # Sum of set elements\n",
    "sum=sum(st)\n",
    "########### Write your code above ###############\n",
    "\n",
    "# Print sum of set\n",
    "print(sum)"
   ]
  },
  {
   "cell_type": "code",
   "execution_count": 90,
   "id": "8c862f57-6a8e-4733-b5ed-f73a95654474",
   "metadata": {},
   "outputs": [
    {
     "name": "stdin",
     "output_type": "stream",
     "text": [
      " 1 4 3\n",
      " 1 4 3 2\n"
     ]
    },
    {
     "name": "stdout",
     "output_type": "stream",
     "text": [
      "True\n"
     ]
    }
   ],
   "source": [
    "a=set(list(map(int,input().split())))\n",
    "b = set(list(map(int, input().split())))\n",
    "\n",
    "########### Write your code below ###############\n",
    "res =a.issubset(b) # Is a subset of b?\n",
    "\n",
    "########### Write your code above ###############\n",
    "# Print True or False\n",
    "print(res)"
   ]
  },
  {
   "cell_type": "code",
   "execution_count": 94,
   "id": "465aa438-8c7d-4e1d-857b-d088ec1e6796",
   "metadata": {},
   "outputs": [
    {
     "name": "stdin",
     "output_type": "stream",
     "text": [
      " 1 2 3 4 5\n",
      " 1 2 3\n"
     ]
    },
    {
     "name": "stdout",
     "output_type": "stream",
     "text": [
      "5\n"
     ]
    }
   ],
   "source": [
    "a = set([int(x) for x in input().strip().split()])\n",
    "b = set([int(x) for x in input().strip().split()])\n",
    "\n",
    "########### Write your code below ###############\n",
    "st = a.union(b)\n",
    "\n",
    "########### Write your code above ###############\n",
    "\n",
    "# Printing the size of the set which is the total number of elements in the set.\n",
    "print(len(st))"
   ]
  },
  {
   "cell_type": "code",
   "execution_count": 2,
   "id": "3ee01d3a-1d75-4cbb-b387-1f59d0678ca5",
   "metadata": {},
   "outputs": [
    {
     "name": "stdout",
     "output_type": "stream",
     "text": [
      "140713817614904\n",
      "140713817615064\n",
      "140713817615064\n"
     ]
    }
   ],
   "source": [
    "print(id(5))  # Unique identifier for the object with value 5\n",
    "a = 10\n",
    "print(id(a))  # Unique identifier for the object with value 10\n",
    "b = a\n",
    "print(id(b))"
   ]
  },
  {
   "cell_type": "code",
   "execution_count": 4,
   "id": "b3ad105d-41d9-4ac3-8d35-b86ffab9561a",
   "metadata": {},
   "outputs": [
    {
     "name": "stdout",
     "output_type": "stream",
     "text": [
      "False\n"
     ]
    }
   ],
   "source": [
    "a = 10\n",
    "b = a\n",
    "b = 20\n",
    "print(a is b)  # False, as b now points to a different object"
   ]
  },
  {
   "cell_type": "code",
   "execution_count": 6,
   "id": "13269798-9b18-455a-9e1e-01716b2eace1",
   "metadata": {},
   "outputs": [
    {
     "name": "stdout",
     "output_type": "stream",
     "text": [
      "False\n",
      "False\n",
      "False\n",
      "True\n",
      "True\n"
     ]
    }
   ],
   "source": [
    "s1 = {2, 4, 6, 8}\n",
    "s2 = {4, 8}\n",
    "\n",
    "print(s1.isdisjoint(s2))  # Output: False\n",
    "print(s1 <= s2)           # Output: False\n",
    "print(s1 < s2)            # Output: False\n",
    "print(s1 >= s2)           # Output: True\n",
    "print(s1 > s2)            # Output: Tru"
   ]
  },
  {
   "cell_type": "code",
   "execution_count": null,
   "id": "3015f1d1-7499-42d3-864b-daf771665d94",
   "metadata": {},
   "outputs": [],
   "source": [
    "- isdisjoint(): Returns True if the two sets have no elements in common.\n",
    "\n",
    "- Subset (<=): Checks if all elements of the first set are in the second set.\n",
    "\n",
    "- Proper Subset (<): Similar to subset but does not allow both sets to be equal.\n",
    "\n",
    "- Superset (>=): Checks if the first set contains all elements of the second set.\n",
    "\n",
    "- Proper Superset (>): Similar to superset but does not allow both sets to be equa"
   ]
  },
  {
   "cell_type": "code",
   "execution_count": 8,
   "id": "f0673dbe-55d1-404c-bdf5-d8104da40a0b",
   "metadata": {},
   "outputs": [
    {
     "name": "stdout",
     "output_type": "stream",
     "text": [
      "xyz\n",
      "None\n",
      "NA\n",
      "NA\n"
     ]
    }
   ],
   "source": [
    "d = {110:\"abc\", 101:\"xyz\", 105:\"pqr\"}\n",
    "print(d.get(101))  \t\t# Output: xyz\n",
    "print(d.get(125))  \t\t# Output: None\n",
    "print(d.get(125,\"NA\"))  # Output: NA\n",
    "if 125 in d:\n",
    "    print(d[125])\n",
    "else:\n",
    "    print(\"NA\")  \t\t# Output: NA"
   ]
  },
  {
   "cell_type": "code",
   "execution_count": null,
   "id": "41887beb-6895-4be1-87e8-e852ad178ec0",
   "metadata": {},
   "outputs": [],
   "source": [
    "# Taking input and initializing dictionary\n",
    "keys = input().split()  # List of keys (as strings)\n",
    "values = map(int, input().split())  # List of values (as integers)\n",
    "my_dict = dict(zip(keys, values))  # Creating dictionary\n",
    "\n",
    "# Insert a key-value pair\n",
    "k, v = input().split()\n",
    "v = int(v)  # Convert value to integer\n",
    "my_dict[k] = v\n",
    "print(\"Inserted\")  # Confirmation message\n",
    "\n",
    "# Delete a key from the dictionary\n",
    "d = input()\n",
    "if d in my_dict:\n",
    "    del my_dict[d]\n",
    "    print(\"Deleted\")\n",
    "else:\n",
    "    print(\"-1\")  # Key not found\n",
    "\n",
    "# Print value for a given key\n",
    "p = input()\n",
    "print(my_dict.get(p, \"-1\"))  # Print value if key exists, else -1\n"
   ]
  },
  {
   "cell_type": "code",
   "execution_count": 10,
   "id": "1a7cee97-45f0-4c6e-953a-69a92891b8d3",
   "metadata": {},
   "outputs": [
    {
     "name": "stdout",
     "output_type": "stream",
     "text": [
      "False\n"
     ]
    }
   ],
   "source": [
    "t1=(1,2,4,3)\n",
    "t2=(1,2,3,4)\n",
    "print(t1<t2)"
   ]
  },
  {
   "cell_type": "code",
   "execution_count": 12,
   "id": "68758d53-d030-4a10-aae0-443e309118f0",
   "metadata": {},
   "outputs": [
    {
     "ename": "TypeError",
     "evalue": "unsupported operand type(s) for +: 'set' and 'set'",
     "output_type": "error",
     "traceback": [
      "\u001b[1;31m---------------------------------------------------------------------------\u001b[0m",
      "\u001b[1;31mTypeError\u001b[0m                                 Traceback (most recent call last)",
      "Cell \u001b[1;32mIn[12], line 3\u001b[0m\n\u001b[0;32m      1\u001b[0m se1\u001b[38;5;241m=\u001b[39m{\u001b[38;5;241m1\u001b[39m,\u001b[38;5;241m2\u001b[39m,\u001b[38;5;241m3\u001b[39m}\n\u001b[0;32m      2\u001b[0m se2\u001b[38;5;241m=\u001b[39m{\u001b[38;5;241m4\u001b[39m,\u001b[38;5;241m5\u001b[39m,\u001b[38;5;241m6\u001b[39m}\n\u001b[1;32m----> 3\u001b[0m \u001b[38;5;28mprint\u001b[39m(\u001b[38;5;28mlen\u001b[39m(\u001b[43mse1\u001b[49m\u001b[38;5;241;43m+\u001b[39;49m\u001b[43mse2\u001b[49m))\n",
      "\u001b[1;31mTypeError\u001b[0m: unsupported operand type(s) for +: 'set' and 'set'"
     ]
    }
   ],
   "source": [
    "se1={1,2,3}\n",
    "se2={4,5,6}\n",
    "print(len(se1+se2))"
   ]
  },
  {
   "cell_type": "code",
   "execution_count": 18,
   "id": "eaceb6f9-5331-4a77-a39d-864a78c19df7",
   "metadata": {},
   "outputs": [
    {
     "data": {
      "text/plain": [
       "set"
      ]
     },
     "execution_count": 18,
     "metadata": {},
     "output_type": "execute_result"
    }
   ],
   "source": [
    "s=set()\n",
    "type(s)"
   ]
  },
  {
   "cell_type": "code",
   "execution_count": null,
   "id": "469d3528-e3b9-4a2e-9857-462a585ed86a",
   "metadata": {},
   "outputs": [],
   "source": []
  }
 ],
 "metadata": {
  "kernelspec": {
   "display_name": "Python 3 (ipykernel)",
   "language": "python",
   "name": "python3"
  },
  "language_info": {
   "codemirror_mode": {
    "name": "ipython",
    "version": 3
   },
   "file_extension": ".py",
   "mimetype": "text/x-python",
   "name": "python",
   "nbconvert_exporter": "python",
   "pygments_lexer": "ipython3",
   "version": "3.12.7"
  },
  "widgets": {
   "application/vnd.jupyter.widget-state+json": {
    "state": {},
    "version_major": 2,
    "version_minor": 0
   }
  }
 },
 "nbformat": 4,
 "nbformat_minor": 5
}

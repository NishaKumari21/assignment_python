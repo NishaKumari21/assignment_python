{
 "cells": [
  {
   "cell_type": "code",
   "execution_count": null,
   "id": "ef6f1781-bd08-4d29-aa57-871016a6b633",
   "metadata": {},
   "outputs": [],
   "source": [
    "# numpy array merging --------------------\n"
   ]
  },
  {
   "cell_type": "markdown",
   "id": "0b603595-a458-4ec8-883f-2ba776eb42c6",
   "metadata": {},
   "source": [
    "🎯 Summary:\n",
    "\n",
    "vstack() — rows add karne ke liye (upar neeche)\n",
    "hstack() — columns add karne ke liye (aage peeche)\n",
    "concatenate() — rows ya columns dono add kar sakte ho (flexible)\n",
    "vsplit() — rows ke hisaab se todna\n",
    "hsplit() — columns ke hisaab se todna"
   ]
  },
  {
   "cell_type": "markdown",
   "id": "d85555a2-d7b7-4262-8d95-6a3ef5e7dc09",
   "metadata": {},
   "source": [
    "# vertical merging"
   ]
  },
  {
   "cell_type": "code",
   "execution_count": 44,
   "id": "190cdb24-bd01-4204-91f1-4e9d6376a942",
   "metadata": {},
   "outputs": [
    {
     "name": "stdout",
     "output_type": "stream",
     "text": [
      "[[ 3  4 56 12  5]\n",
      " [ 6  7  8 89 10]]\n"
     ]
    }
   ],
   "source": [
    "# 1. numpy.vstack() (Vertical Stacking)\n",
    "# Is function se arrays upar neeche (row-wise) stack hote hain, matlab vertically chipak jaate hain!\n",
    "# Dono arrays ka shape same hona chahiye, sirf pehli axis (rows) pe difference ho sakta hai.\n",
    "import numpy as np\n",
    "arr1=np.array([3,4,56,12,5])\n",
    "arr2=np.array([6,7,8,89,10])\n",
    "result=np.vstack((arr1,arr2))\n",
    "print(result)"
   ]
  },
  {
   "cell_type": "markdown",
   "id": "c43e510e-17f2-49c7-9a3f-f3b6a74aa792",
   "metadata": {},
   "source": [
    "# horizontal merging"
   ]
  },
  {
   "cell_type": "code",
   "execution_count": 47,
   "id": "7fd42ba8-6a45-4efb-a149-24ad19951622",
   "metadata": {},
   "outputs": [
    {
     "name": "stdout",
     "output_type": "stream",
     "text": [
      "[ 3  4 56 12  5  6  7  8 89 10]\n"
     ]
    }
   ],
   "source": [
    "import numpy as np\n",
    "arr1=np.array([3,4,56,12,5])\n",
    "arr2=np.array([6,7,8,89,10])\n",
    "result=np.hstack((arr1,arr2))\n",
    "print(result)"
   ]
  },
  {
   "cell_type": "markdown",
   "id": "d5cc578e-953b-449d-9499-1ed640ea7f30",
   "metadata": {},
   "source": [
    "# concatenate"
   ]
  },
  {
   "cell_type": "code",
   "execution_count": 50,
   "id": "b6bd8ffb-8ce3-414f-8c57-883a0bbe5911",
   "metadata": {},
   "outputs": [
    {
     "name": "stdout",
     "output_type": "stream",
     "text": [
      "[ 3  4 56 12  5  6  7  8 89 10]\n"
     ]
    }
   ],
   "source": [
    "import numpy as np\n",
    "arr1=np.array([3,4,56,12,5])\n",
    "arr2=np.array([6,7,8,89,10])\n",
    "result=np.concatenate((arr1,arr2))\n",
    "print(result)"
   ]
  },
  {
   "cell_type": "code",
   "execution_count": 51,
   "id": "431a315e-a274-4e1e-9461-890a4e56e290",
   "metadata": {},
   "outputs": [],
   "source": [
    "# splitting of numpy array------"
   ]
  },
  {
   "cell_type": "markdown",
   "id": "c6440781-ff3b-4833-beeb-51cd38679038",
   "metadata": {},
   "source": [
    "# vertical splitting"
   ]
  },
  {
   "cell_type": "code",
   "execution_count": 53,
   "id": "25980c75-29be-46ec-b2aa-d5b1bd184c50",
   "metadata": {},
   "outputs": [
    {
     "name": "stdout",
     "output_type": "stream",
     "text": [
      "[array([[0., 1., 2.],\n",
      "       [3., 4., 5.],\n",
      "       [6., 7., 8.]])]\n"
     ]
    }
   ],
   "source": [
    "import numpy as np\n",
    "arr = np.arange(9.0).reshape(3, 3)\n",
    "out_arr = np.vsplit(arr, 1)\n",
    "print(out_arr)\n"
   ]
  },
  {
   "cell_type": "markdown",
   "id": "42755772-421c-4be8-852c-fa2acda4a295",
   "metadata": {},
   "source": [
    "# horizontal splitting"
   ]
  },
  {
   "cell_type": "code",
   "execution_count": 55,
   "id": "e489895a-513c-44d7-9ca7-f3ad0dc1555f",
   "metadata": {},
   "outputs": [
    {
     "name": "stdout",
     "output_type": "stream",
     "text": [
      "[array([[0., 1., 2.],\n",
      "       [3., 4., 5.],\n",
      "       [6., 7., 8.]])]\n"
     ]
    }
   ],
   "source": [
    "import numpy as np\n",
    "arr = np.arange(9.0).reshape(3, 3)\n",
    "out_arr = np.hsplit(arr,1)\n",
    "print(out_arr)"
   ]
  },
  {
   "cell_type": "code",
   "execution_count": null,
   "id": "e535ef18-627b-4969-8531-848c278b3693",
   "metadata": {},
   "outputs": [],
   "source": []
  },
  {
   "cell_type": "code",
   "execution_count": null,
   "id": "a949ccb8-c554-4bf7-b9c9-ed1088995a9a",
   "metadata": {},
   "outputs": [],
   "source": []
  }
 ],
 "metadata": {
  "kernelspec": {
   "display_name": "Python 3 (ipykernel)",
   "language": "python",
   "name": "python3"
  },
  "language_info": {
   "codemirror_mode": {
    "name": "ipython",
    "version": 3
   },
   "file_extension": ".py",
   "mimetype": "text/x-python",
   "name": "python",
   "nbconvert_exporter": "python",
   "pygments_lexer": "ipython3",
   "version": "3.12.7"
  },
  "widgets": {
   "application/vnd.jupyter.widget-state+json": {
    "state": {},
    "version_major": 2,
    "version_minor": 0
   }
  }
 },
 "nbformat": 4,
 "nbformat_minor": 5
}

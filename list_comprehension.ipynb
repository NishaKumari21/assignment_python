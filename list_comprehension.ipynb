{
 "cells": [
  {
   "cell_type": "markdown",
   "id": "5d375c1c-eba1-4a7e-af56-3de9f7b66b0d",
   "metadata": {},
   "source": [
    "List Comprehension in Python\n",
    "List comprehension is a concise way to create lists in Python. It provides a shorter, more readable, and efficient alternative to traditional for loops."
   ]
  },
  {
   "cell_type": "code",
   "execution_count": 22,
   "id": "e819441a-cf42-4652-ba9c-10c612d722f0",
   "metadata": {},
   "outputs": [
    {
     "name": "stdout",
     "output_type": "stream",
     "text": [
      "[4, 5, 6, 8]\n"
     ]
    }
   ],
   "source": [
    "marks = [2, 3, 4, 6]\n",
    "\n",
    "def abc(marks):\n",
    "    new_list = [] \n",
    "    for i in marks:\n",
    "        new_list.append(i + 2)  \n",
    "    print(new_list) \n",
    "\n",
    "abc(marks)\n"
   ]
  },
  {
   "cell_type": "code",
   "execution_count": 14,
   "id": "423e37e6-39c5-496b-9787-f249cc1591ec",
   "metadata": {},
   "outputs": [
    {
     "name": "stdout",
     "output_type": "stream",
     "text": [
      "6\n"
     ]
    },
    {
     "ename": "TypeError",
     "evalue": "unsupported operand type(s) for +: 'int' and 'tuple'",
     "output_type": "error",
     "traceback": [
      "\u001b[1;31m---------------------------------------------------------------------------\u001b[0m",
      "\u001b[1;31mTypeError\u001b[0m                                 Traceback (most recent call last)",
      "Cell \u001b[1;32mIn[14], line 5\u001b[0m\n\u001b[0;32m      3\u001b[0m T1 \u001b[38;5;241m+\u001b[39m\u001b[38;5;241m=\u001b[39m \u001b[38;5;241m5\u001b[39m\n\u001b[0;32m      4\u001b[0m \u001b[38;5;28mprint\u001b[39m(T1)\n\u001b[1;32m----> 5\u001b[0m \u001b[38;5;28mprint\u001b[39m(\u001b[43mT1\u001b[49m\u001b[43m \u001b[49m\u001b[38;5;241;43m+\u001b[39;49m\u001b[43m \u001b[49m\u001b[43mT2\u001b[49m)\n",
      "\u001b[1;31mTypeError\u001b[0m: unsupported operand type(s) for +: 'int' and 'tuple'"
     ]
    }
   ],
   "source": [
    "T1 = (1)\n",
    "T2 = (3, 4)\n",
    "T1 += 5\n",
    "print(T1)\n",
    "print(T1 + T2)"
   ]
  },
  {
   "cell_type": "code",
   "execution_count": 16,
   "id": "c15cc2a1-fdcd-40ae-9eaf-8ad50eb36274",
   "metadata": {},
   "outputs": [
    {
     "name": "stdout",
     "output_type": "stream",
     "text": [
      "index of element 105 is :  5\n"
     ]
    }
   ],
   "source": [
    "list1 = range(100, 110)  # statement 1\n",
    "print (\"index of element 105 is : \", list1.index(105))  # statement 2"
   ]
  },
  {
   "cell_type": "code",
   "execution_count": 18,
   "id": "26374f8e-8d0b-4b45-87aa-f556b44960eb",
   "metadata": {},
   "outputs": [
    {
     "name": "stdout",
     "output_type": "stream",
     "text": [
      "['G', 'F', 'G']\n"
     ]
    }
   ],
   "source": [
    "temp = ['Geeks', 'for', 'Geeks']\n",
    "arr = [i[0].upper() for i in temp]\n",
    "print(arr)"
   ]
  },
  {
   "cell_type": "code",
   "execution_count": 24,
   "id": "ef4906af-bee8-45d1-95e4-9b6c2c10996c",
   "metadata": {},
   "outputs": [
    {
     "name": "stdout",
     "output_type": "stream",
     "text": [
      "[9, 3, 7]\n"
     ]
    }
   ],
   "source": [
    "def getSmaller(l, x):\n",
    "    return [e for e in l if e < x]\n",
    "\n",
    "l = [9, 15, 12, 3, 7, 11]\n",
    "x = 10\n",
    "print(getSmaller(l, x))"
   ]
  },
  {
   "cell_type": "code",
   "execution_count": null,
   "id": "9419ed55-cac4-4cde-9c8b-1afeced1e132",
   "metadata": {},
   "outputs": [],
   "source": [
    "def getEvenOdd(l):\n",
    "    even = [x for x in l if x % 2 == 0]\n",
    "    odd = [x for x in l if x % 2 != 0]\n",
    "    return even, odd\n",
    "\n",
    "l = [10, 3, 20, 5, 12]\n",
    "even, odd = getEvenOdd(l)\n",
    "print(even)\n",
    "print(odd)"
   ]
  }
 ],
 "metadata": {
  "kernelspec": {
   "display_name": "Python 3 (ipykernel)",
   "language": "python",
   "name": "python3"
  },
  "language_info": {
   "codemirror_mode": {
    "name": "ipython",
    "version": 3
   },
   "file_extension": ".py",
   "mimetype": "text/x-python",
   "name": "python",
   "nbconvert_exporter": "python",
   "pygments_lexer": "ipython3",
   "version": "3.12.7"
  },
  "widgets": {
   "application/vnd.jupyter.widget-state+json": {
    "state": {},
    "version_major": 2,
    "version_minor": 0
   }
  }
 },
 "nbformat": 4,
 "nbformat_minor": 5
}

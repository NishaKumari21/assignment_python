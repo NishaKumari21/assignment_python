{
 "cells": [
  {
   "cell_type": "code",
   "execution_count": null,
   "metadata": {},
   "outputs": [],
   "source": [
    "Question1. Create a function that takes three arguments a, b, c and returns the sum of the\n",
    "numbers that are evenly divided by c from the range a, b inclusive."
   ]
  },
  {
   "cell_type": "code",
   "execution_count": 7,
   "metadata": {},
   "outputs": [
    {
     "name": "stdout",
     "output_type": "stream",
     "text": [
      "30\n"
     ]
    }
   ],
   "source": [
    "def evenly_divisible(a, b, divisor):\n",
    "    total = 0\n",
    "    for i in range(a, b + 1):\n",
    "        if i % divisor == 0:  # Check if the number is divisible by divisor\n",
    "            total += i\n",
    "    return total\n",
    "\n",
    "# Example usage\n",
    "print(evenly_divisible(1, 10, 2))  # Output: 30\n"
   ]
  },
  {
   "cell_type": "markdown",
   "metadata": {},
   "source": [
    "Question2. Create a function that returns True if a given inequality expression is correct and\n",
    "False otherwise."
   ]
  },
  {
   "cell_type": "code",
   "execution_count": 9,
   "metadata": {},
   "outputs": [
    {
     "name": "stdout",
     "output_type": "stream",
     "text": [
      "correct\n"
     ]
    },
    {
     "data": {
      "text/plain": [
       "True"
      ]
     },
     "execution_count": 9,
     "metadata": {},
     "output_type": "execute_result"
    }
   ],
   "source": [
    "def test(i):\n",
    "    if(i)==True:\n",
    "        print(\"correct\")\n",
    "    else:\n",
    "        print(\"incorrect\")\n",
    "    return i\n",
    "\n",
    "# Example usage\n",
    "test(5<12)  # Output: incorrect"
   ]
  },
  {
   "cell_type": "markdown",
   "metadata": {},
   "source": [
    "Create a function that replaces all the vowels in a string with a specified character."
   ]
  },
  {
   "cell_type": "code",
   "execution_count": 14,
   "metadata": {},
   "outputs": [
    {
     "name": "stdout",
     "output_type": "stream",
     "text": [
      "H%ll&, W&rld!\n"
     ]
    }
   ],
   "source": [
    "def test(string):\n",
    "    k=['a','e','i','o','u']\n",
    "    for k in string:\n",
    "        if 'i' in string:\n",
    "            string = string.replace('i', \"*\")\n",
    "        if 'a'  in string:\n",
    "            string = string.replace('a', \"@\")\n",
    "        if 'e' in string:\n",
    "            string = string.replace('e', \"%\")\n",
    "        if 'o' in string:\n",
    "            string = string.replace('o', \"&\")\n",
    "        if 'u' in string:\n",
    "            string = string.replace('u', \"^\")\n",
    "    return string\n",
    "print(test(\"Hello, World!\"))    "
   ]
  },
  {
   "cell_type": "markdown",
   "metadata": {},
   "source": [
    "Write a function that calculates the factorial of a number recursively."
   ]
  },
  {
   "cell_type": "code",
   "execution_count": 16,
   "metadata": {},
   "outputs": [
    {
     "name": "stdout",
     "output_type": "stream",
     "text": [
      "120\n"
     ]
    }
   ],
   "source": [
    "n=int(input(\"enter number:\"))\n",
    "def fact(n):\n",
    "    if n==0:\n",
    "        return 1\n",
    "    else:\n",
    "        return n*fact(n-1)\n",
    "print(fact(n))"
   ]
  },
  {
   "cell_type": "markdown",
   "metadata": {},
   "source": [
    "Hamming distance is the number of characters that differ between two strings.\n",
    "To illustrate:\n",
    "String1: &quot;abcbba&quot;\n",
    "String2: &quot;abcbda&quot;\n",
    "Hamming Distance: 1 - &quot;b&quot; vs. &quot;d&quot; is the only difference."
   ]
  },
  {
   "cell_type": "code",
   "execution_count": 20,
   "metadata": {},
   "outputs": [
    {
     "name": "stdout",
     "output_type": "stream",
     "text": [
      "value of i: h\n",
      "h is same\n",
      "value of i: e\n",
      "e is different\n",
      "value of i: l\n",
      "l is different\n",
      "value of i: l\n",
      "l is different\n",
      "value of i: o\n",
      "o is different\n",
      "None\n"
     ]
    }
   ],
   "source": [
    "s1=\"hello\"\n",
    "s2=\"hi\"\n",
    "def diff(s1,s2):\n",
    "    for i in s1:\n",
    "        print(\"value of i:\",i)\n",
    "        if i in s2:\n",
    "            print(f\"{i} is same\")\n",
    "        else:\n",
    "            print(f\"{i} is different\")\n",
    "        \n",
    "print(diff(s1,s2))\n"
   ]
  },
  {
   "cell_type": "code",
   "execution_count": 21,
   "metadata": {},
   "outputs": [
    {
     "name": "stdout",
     "output_type": "stream",
     "text": [
      "Index 0: Value of i: h\n",
      "h is same\n",
      "Index 1: Value of i: e\n",
      "e is different\n",
      "Index 2: Value of i: l\n",
      "l is different\n",
      "Index 3: Value of i: l\n",
      "l is different\n",
      "Index 4: Value of i: o\n",
      "o is different\n",
      "Hamming Distance: 4\n"
     ]
    }
   ],
   "source": [
    "s1 = \"hello\"\n",
    "s2 = \"hi\"\n",
    "\n",
    "def diff(s1, s2):\n",
    "    # Ensure both strings are of the same length by padding the shorter one with spaces\n",
    "    max_len = max(len(s1), len(s2))\n",
    "    s1 = s1.ljust(max_len)\n",
    "    s2 = s2.ljust(max_len)\n",
    "    \n",
    "    for i in range(len(s1)):\n",
    "        print(f\"Index {i}: Value of i: {s1[i]}\")\n",
    "        if s1[i] == s2[i]:\n",
    "            print(f\"{s1[i]} is same\")\n",
    "        else:\n",
    "            print(f\"{s1[i]} is different\")\n",
    "            \n",
    "    # Calculate and return Hamming distance\n",
    "    hamming_distance = sum(s1[i] != s2[i] for i in range(len(s1)))\n",
    "    return hamming_distance\n",
    "\n",
    "# Call the function and print the result\n",
    "print(f\"Hamming Distance: {diff(s1, s2)}\")\n"
   ]
  }
 ],
 "metadata": {
  "kernelspec": {
   "display_name": "Python 3",
   "language": "python",
   "name": "python3"
  },
  "language_info": {
   "codemirror_mode": {
    "name": "ipython",
    "version": 3
   },
   "file_extension": ".py",
   "mimetype": "text/x-python",
   "name": "python",
   "nbconvert_exporter": "python",
   "pygments_lexer": "ipython3",
   "version": "3.12.2"
  }
 },
 "nbformat": 4,
 "nbformat_minor": 2
}

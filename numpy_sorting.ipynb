{
 "cells": [
  {
   "cell_type": "code",
   "execution_count": 4,
   "id": "0aff6687-f4a2-488a-9196-8ab1c163d8d3",
   "metadata": {},
   "outputs": [
    {
     "name": "stdout",
     "output_type": "stream",
     "text": [
      "[[3 4 6 7 8]\n",
      " [2 6 7 8 9]\n",
      " [1 2 3 4 5]]\n"
     ]
    }
   ],
   "source": [
    "# sorting in numpy array:------\n",
    "import numpy as np\n",
    "arr = np.array([[7, 3, 8, 6, 4], [7, 2, 9, 8, 6], [5, 4, 2, 3, 1]])\n",
    "print(np.sort(arr))"
   ]
  },
  {
   "cell_type": "code",
   "execution_count": 18,
   "id": "60c724b7-f32e-40ef-b518-46b44e7a7be5",
   "metadata": {},
   "outputs": [
    {
     "name": "stdout",
     "output_type": "stream",
     "text": [
      "quicksort: [[3 4 6 7 8]\n",
      " [2 6 7 8 9]\n",
      " [1 2 3 4 5]]\n",
      "mergesort: [[3 4 6 7 8]\n",
      " [2 6 7 8 9]\n",
      " [1 2 3 4 5]]\n",
      "heapsort: [[3 4 6 7 8]\n",
      " [2 6 7 8 9]\n",
      " [1 2 3 4 5]]\n"
     ]
    }
   ],
   "source": [
    "# to sort the array according to the sorting method\n",
    "print(\"quicksort:\",np.sort(arr,kind='quicksort'))\n",
    "print(\"mergesort:\",np.sort(arr,kind='mergesort'))\n",
    "print(\"heapsort:\",np.sort(arr , kind = 'heapsort'))"
   ]
  },
  {
   "cell_type": "code",
   "execution_count": null,
   "id": "2e2fa2eb-a185-48ea-94c9-f20542c74525",
   "metadata": {},
   "outputs": [],
   "source": []
  }
 ],
 "metadata": {
  "kernelspec": {
   "display_name": "Python 3 (ipykernel)",
   "language": "python",
   "name": "python3"
  },
  "language_info": {
   "codemirror_mode": {
    "name": "ipython",
    "version": 3
   },
   "file_extension": ".py",
   "mimetype": "text/x-python",
   "name": "python",
   "nbconvert_exporter": "python",
   "pygments_lexer": "ipython3",
   "version": "3.12.7"
  },
  "widgets": {
   "application/vnd.jupyter.widget-state+json": {
    "state": {},
    "version_major": 2,
    "version_minor": 0
   }
  }
 },
 "nbformat": 4,
 "nbformat_minor": 5
}
